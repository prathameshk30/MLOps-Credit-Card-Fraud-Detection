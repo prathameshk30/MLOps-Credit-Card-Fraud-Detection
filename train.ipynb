{
  "cells": [
    {
      "cell_type": "markdown",
      "metadata": {
        "id": "Ru-w4S19ONOw"
      },
      "source": [
        "### [1]"
      ]
    },
    {
      "cell_type": "markdown",
      "metadata": {
        "id": "daKSaTvgONOy"
      },
      "source": [
        "### Importing the libraries:"
      ]
    },
    {
      "cell_type": "code",
      "execution_count": 30,
      "metadata": {
        "id": "LIcefXKvONOz"
      },
      "outputs": [],
      "source": [
        "import pandas as pd\n",
        "import numpy as np\n",
        "from sklearn.metrics import plot_roc_curve\n",
        "from sklearn.model_selection import GridSearchCV\n",
        "from sklearn.pipeline import Pipeline\n",
        "from sklearn.preprocessing import StandardScaler\n",
        "from sklearn.compose import ColumnTransformer\n",
        "from imblearn.under_sampling import RandomUnderSampler\n",
        "from sklearn.tree import DecisionTreeClassifier\n",
        "from sklearn.model_selection import train_test_split\n",
        "from sklearn.metrics import confusion_matrix, accuracy_score, classification_report, plot_roc_curve, plot_precision_recall_curve\n",
        "from sklearn.model_selection import train_test_split\n",
        "from sklearn.ensemble import RandomForestClassifier\n",
        "from sklearn.linear_model import LogisticRegression\n",
        "from xgboost import XGBClassifier\n",
        "import pickle "
      ]
    },
    {
      "cell_type": "markdown",
      "metadata": {
        "id": "Do9pqsbKONO0"
      },
      "source": [
        "##### Description:\n",
        "\n",
        "As a standard, I am importing the pandas, numpy, and shutup libraries which are required for my computation purposes. \n",
        "\n",
        "Importing all the classifiers and the metric systems that are used to fit the training set, predict and plot the results using curves\n",
        "##### Techniques used for Hyperparameter searching and fitting the models: \n",
        "    \n",
        "    sklearn Pipeline\n",
        "    sklearn GridSearchCV\n",
        "    sklearn ColumnTransformer\n",
        "    sklearn StandardScaler\n",
        "\n",
        "##### Models :\n",
        "    Decision Tree\n",
        "    Logistic Regression\n",
        "    RandomForest\n",
        "    XGBoost"
      ]
    },
    {
      "cell_type": "markdown",
      "metadata": {
        "id": "-Zvwc73JONO0"
      },
      "source": [
        "### [2]"
      ]
    },
    {
      "cell_type": "markdown",
      "metadata": {
        "id": "0yNY_dUVONO1"
      },
      "source": [
        "### Reading the file:"
      ]
    },
    {
      "cell_type": "code",
      "execution_count": 83,
      "metadata": {
        "id": "CHyrYZKWONO1"
      },
      "outputs": [],
      "source": [
        "new_df = pd.read_csv(\"/content/final.csv\")"
      ]
    },
    {
      "cell_type": "code",
      "source": [
        "new_df"
      ],
      "metadata": {
        "colab": {
          "base_uri": "https://localhost:8080/",
          "height": 505
        },
        "id": "T5il2iFN6r8O",
        "outputId": "6ab8d34b-a5c9-4c67-9e14-5bf351be2a59"
      },
      "execution_count": 84,
      "outputs": [
        {
          "output_type": "execute_result",
          "data": {
            "text/plain": [
              "        Unnamed: 0  creditLimit  availableMoney  transactionAmount  \\\n",
              "0                0         5000         5000.00              98.55   \n",
              "1                1         5000         5000.00              74.51   \n",
              "2                2         5000         5000.00               7.47   \n",
              "3                3         5000         5000.00               7.47   \n",
              "4                4         5000         5000.00              71.18   \n",
              "...            ...          ...             ...                ...   \n",
              "786358      786358        50000        48904.96             119.92   \n",
              "786359      786359        50000        48785.04              18.89   \n",
              "786360      786360        50000        48766.15              49.43   \n",
              "786361      786361        50000        48716.72              49.89   \n",
              "786362      786362        50000        48666.83              72.18   \n",
              "\n",
              "        posEntryMode  posConditionCode  merchantCategoryCode transactionType  \\\n",
              "0                  2                 1             rideshare        PURCHASE   \n",
              "1                  9                 1         entertainment        PURCHASE   \n",
              "2                  9                 1            mobileapps        PURCHASE   \n",
              "3                  9                 1            mobileapps        PURCHASE   \n",
              "4                  2                 1              fastfood        PURCHASE   \n",
              "...              ...               ...                   ...             ...   \n",
              "786358            90                 1             rideshare        PURCHASE   \n",
              "786359             9                 1  online_subscriptions        PURCHASE   \n",
              "786360             2                 1             rideshare        PURCHASE   \n",
              "786361             9                99         online_retail        PURCHASE   \n",
              "786362             5                 1             rideshare        PURCHASE   \n",
              "\n",
              "        currentBalance  cardPresent  expirationDateKeyInMatch  isFraud  \\\n",
              "0                 0.00        False                     False    False   \n",
              "1                 0.00         True                     False    False   \n",
              "2                 0.00        False                     False    False   \n",
              "3                 0.00        False                     False    False   \n",
              "4                 0.00         True                     False    False   \n",
              "...                ...          ...                       ...      ...   \n",
              "786358         1095.04        False                     False    False   \n",
              "786359         1214.96        False                     False    False   \n",
              "786360         1233.85        False                     False    False   \n",
              "786361         1283.28        False                     False    False   \n",
              "786362         1333.17        False                     False    False   \n",
              "\n",
              "        CVV Match  multiswipeMinutes  FirstVendorPurchase  sameCountry  \\\n",
              "0            True           0.000000                 True         True   \n",
              "1            True       84398.366667                 True         True   \n",
              "2            True       40572.750000                 True         True   \n",
              "3            True       45656.183333                False         True   \n",
              "4            True           0.000000                 True         True   \n",
              "...           ...                ...                  ...          ...   \n",
              "786358       True         676.816667                False         True   \n",
              "786359       True        4176.366667                False         True   \n",
              "786360       True        2845.833333                False         True   \n",
              "786361       True        1964.516667                False         True   \n",
              "786362       True        2619.566667                False         True   \n",
              "\n",
              "        accountNumber  \n",
              "0           737265056  \n",
              "1           737265056  \n",
              "2           737265056  \n",
              "3           737265056  \n",
              "4           830329091  \n",
              "...               ...  \n",
              "786358      732852505  \n",
              "786359      732852505  \n",
              "786360      732852505  \n",
              "786361      732852505  \n",
              "786362      732852505  \n",
              "\n",
              "[786363 rows x 17 columns]"
            ],
            "text/html": [
              "\n",
              "  <div id=\"df-1aaef20b-6679-44a0-83f5-78f490252fd2\">\n",
              "    <div class=\"colab-df-container\">\n",
              "      <div>\n",
              "<style scoped>\n",
              "    .dataframe tbody tr th:only-of-type {\n",
              "        vertical-align: middle;\n",
              "    }\n",
              "\n",
              "    .dataframe tbody tr th {\n",
              "        vertical-align: top;\n",
              "    }\n",
              "\n",
              "    .dataframe thead th {\n",
              "        text-align: right;\n",
              "    }\n",
              "</style>\n",
              "<table border=\"1\" class=\"dataframe\">\n",
              "  <thead>\n",
              "    <tr style=\"text-align: right;\">\n",
              "      <th></th>\n",
              "      <th>Unnamed: 0</th>\n",
              "      <th>creditLimit</th>\n",
              "      <th>availableMoney</th>\n",
              "      <th>transactionAmount</th>\n",
              "      <th>posEntryMode</th>\n",
              "      <th>posConditionCode</th>\n",
              "      <th>merchantCategoryCode</th>\n",
              "      <th>transactionType</th>\n",
              "      <th>currentBalance</th>\n",
              "      <th>cardPresent</th>\n",
              "      <th>expirationDateKeyInMatch</th>\n",
              "      <th>isFraud</th>\n",
              "      <th>CVV Match</th>\n",
              "      <th>multiswipeMinutes</th>\n",
              "      <th>FirstVendorPurchase</th>\n",
              "      <th>sameCountry</th>\n",
              "      <th>accountNumber</th>\n",
              "    </tr>\n",
              "  </thead>\n",
              "  <tbody>\n",
              "    <tr>\n",
              "      <th>0</th>\n",
              "      <td>0</td>\n",
              "      <td>5000</td>\n",
              "      <td>5000.00</td>\n",
              "      <td>98.55</td>\n",
              "      <td>2</td>\n",
              "      <td>1</td>\n",
              "      <td>rideshare</td>\n",
              "      <td>PURCHASE</td>\n",
              "      <td>0.00</td>\n",
              "      <td>False</td>\n",
              "      <td>False</td>\n",
              "      <td>False</td>\n",
              "      <td>True</td>\n",
              "      <td>0.000000</td>\n",
              "      <td>True</td>\n",
              "      <td>True</td>\n",
              "      <td>737265056</td>\n",
              "    </tr>\n",
              "    <tr>\n",
              "      <th>1</th>\n",
              "      <td>1</td>\n",
              "      <td>5000</td>\n",
              "      <td>5000.00</td>\n",
              "      <td>74.51</td>\n",
              "      <td>9</td>\n",
              "      <td>1</td>\n",
              "      <td>entertainment</td>\n",
              "      <td>PURCHASE</td>\n",
              "      <td>0.00</td>\n",
              "      <td>True</td>\n",
              "      <td>False</td>\n",
              "      <td>False</td>\n",
              "      <td>True</td>\n",
              "      <td>84398.366667</td>\n",
              "      <td>True</td>\n",
              "      <td>True</td>\n",
              "      <td>737265056</td>\n",
              "    </tr>\n",
              "    <tr>\n",
              "      <th>2</th>\n",
              "      <td>2</td>\n",
              "      <td>5000</td>\n",
              "      <td>5000.00</td>\n",
              "      <td>7.47</td>\n",
              "      <td>9</td>\n",
              "      <td>1</td>\n",
              "      <td>mobileapps</td>\n",
              "      <td>PURCHASE</td>\n",
              "      <td>0.00</td>\n",
              "      <td>False</td>\n",
              "      <td>False</td>\n",
              "      <td>False</td>\n",
              "      <td>True</td>\n",
              "      <td>40572.750000</td>\n",
              "      <td>True</td>\n",
              "      <td>True</td>\n",
              "      <td>737265056</td>\n",
              "    </tr>\n",
              "    <tr>\n",
              "      <th>3</th>\n",
              "      <td>3</td>\n",
              "      <td>5000</td>\n",
              "      <td>5000.00</td>\n",
              "      <td>7.47</td>\n",
              "      <td>9</td>\n",
              "      <td>1</td>\n",
              "      <td>mobileapps</td>\n",
              "      <td>PURCHASE</td>\n",
              "      <td>0.00</td>\n",
              "      <td>False</td>\n",
              "      <td>False</td>\n",
              "      <td>False</td>\n",
              "      <td>True</td>\n",
              "      <td>45656.183333</td>\n",
              "      <td>False</td>\n",
              "      <td>True</td>\n",
              "      <td>737265056</td>\n",
              "    </tr>\n",
              "    <tr>\n",
              "      <th>4</th>\n",
              "      <td>4</td>\n",
              "      <td>5000</td>\n",
              "      <td>5000.00</td>\n",
              "      <td>71.18</td>\n",
              "      <td>2</td>\n",
              "      <td>1</td>\n",
              "      <td>fastfood</td>\n",
              "      <td>PURCHASE</td>\n",
              "      <td>0.00</td>\n",
              "      <td>True</td>\n",
              "      <td>False</td>\n",
              "      <td>False</td>\n",
              "      <td>True</td>\n",
              "      <td>0.000000</td>\n",
              "      <td>True</td>\n",
              "      <td>True</td>\n",
              "      <td>830329091</td>\n",
              "    </tr>\n",
              "    <tr>\n",
              "      <th>...</th>\n",
              "      <td>...</td>\n",
              "      <td>...</td>\n",
              "      <td>...</td>\n",
              "      <td>...</td>\n",
              "      <td>...</td>\n",
              "      <td>...</td>\n",
              "      <td>...</td>\n",
              "      <td>...</td>\n",
              "      <td>...</td>\n",
              "      <td>...</td>\n",
              "      <td>...</td>\n",
              "      <td>...</td>\n",
              "      <td>...</td>\n",
              "      <td>...</td>\n",
              "      <td>...</td>\n",
              "      <td>...</td>\n",
              "      <td>...</td>\n",
              "    </tr>\n",
              "    <tr>\n",
              "      <th>786358</th>\n",
              "      <td>786358</td>\n",
              "      <td>50000</td>\n",
              "      <td>48904.96</td>\n",
              "      <td>119.92</td>\n",
              "      <td>90</td>\n",
              "      <td>1</td>\n",
              "      <td>rideshare</td>\n",
              "      <td>PURCHASE</td>\n",
              "      <td>1095.04</td>\n",
              "      <td>False</td>\n",
              "      <td>False</td>\n",
              "      <td>False</td>\n",
              "      <td>True</td>\n",
              "      <td>676.816667</td>\n",
              "      <td>False</td>\n",
              "      <td>True</td>\n",
              "      <td>732852505</td>\n",
              "    </tr>\n",
              "    <tr>\n",
              "      <th>786359</th>\n",
              "      <td>786359</td>\n",
              "      <td>50000</td>\n",
              "      <td>48785.04</td>\n",
              "      <td>18.89</td>\n",
              "      <td>9</td>\n",
              "      <td>1</td>\n",
              "      <td>online_subscriptions</td>\n",
              "      <td>PURCHASE</td>\n",
              "      <td>1214.96</td>\n",
              "      <td>False</td>\n",
              "      <td>False</td>\n",
              "      <td>False</td>\n",
              "      <td>True</td>\n",
              "      <td>4176.366667</td>\n",
              "      <td>False</td>\n",
              "      <td>True</td>\n",
              "      <td>732852505</td>\n",
              "    </tr>\n",
              "    <tr>\n",
              "      <th>786360</th>\n",
              "      <td>786360</td>\n",
              "      <td>50000</td>\n",
              "      <td>48766.15</td>\n",
              "      <td>49.43</td>\n",
              "      <td>2</td>\n",
              "      <td>1</td>\n",
              "      <td>rideshare</td>\n",
              "      <td>PURCHASE</td>\n",
              "      <td>1233.85</td>\n",
              "      <td>False</td>\n",
              "      <td>False</td>\n",
              "      <td>False</td>\n",
              "      <td>True</td>\n",
              "      <td>2845.833333</td>\n",
              "      <td>False</td>\n",
              "      <td>True</td>\n",
              "      <td>732852505</td>\n",
              "    </tr>\n",
              "    <tr>\n",
              "      <th>786361</th>\n",
              "      <td>786361</td>\n",
              "      <td>50000</td>\n",
              "      <td>48716.72</td>\n",
              "      <td>49.89</td>\n",
              "      <td>9</td>\n",
              "      <td>99</td>\n",
              "      <td>online_retail</td>\n",
              "      <td>PURCHASE</td>\n",
              "      <td>1283.28</td>\n",
              "      <td>False</td>\n",
              "      <td>False</td>\n",
              "      <td>False</td>\n",
              "      <td>True</td>\n",
              "      <td>1964.516667</td>\n",
              "      <td>False</td>\n",
              "      <td>True</td>\n",
              "      <td>732852505</td>\n",
              "    </tr>\n",
              "    <tr>\n",
              "      <th>786362</th>\n",
              "      <td>786362</td>\n",
              "      <td>50000</td>\n",
              "      <td>48666.83</td>\n",
              "      <td>72.18</td>\n",
              "      <td>5</td>\n",
              "      <td>1</td>\n",
              "      <td>rideshare</td>\n",
              "      <td>PURCHASE</td>\n",
              "      <td>1333.17</td>\n",
              "      <td>False</td>\n",
              "      <td>False</td>\n",
              "      <td>False</td>\n",
              "      <td>True</td>\n",
              "      <td>2619.566667</td>\n",
              "      <td>False</td>\n",
              "      <td>True</td>\n",
              "      <td>732852505</td>\n",
              "    </tr>\n",
              "  </tbody>\n",
              "</table>\n",
              "<p>786363 rows × 17 columns</p>\n",
              "</div>\n",
              "      <button class=\"colab-df-convert\" onclick=\"convertToInteractive('df-1aaef20b-6679-44a0-83f5-78f490252fd2')\"\n",
              "              title=\"Convert this dataframe to an interactive table.\"\n",
              "              style=\"display:none;\">\n",
              "        \n",
              "  <svg xmlns=\"http://www.w3.org/2000/svg\" height=\"24px\"viewBox=\"0 0 24 24\"\n",
              "       width=\"24px\">\n",
              "    <path d=\"M0 0h24v24H0V0z\" fill=\"none\"/>\n",
              "    <path d=\"M18.56 5.44l.94 2.06.94-2.06 2.06-.94-2.06-.94-.94-2.06-.94 2.06-2.06.94zm-11 1L8.5 8.5l.94-2.06 2.06-.94-2.06-.94L8.5 2.5l-.94 2.06-2.06.94zm10 10l.94 2.06.94-2.06 2.06-.94-2.06-.94-.94-2.06-.94 2.06-2.06.94z\"/><path d=\"M17.41 7.96l-1.37-1.37c-.4-.4-.92-.59-1.43-.59-.52 0-1.04.2-1.43.59L10.3 9.45l-7.72 7.72c-.78.78-.78 2.05 0 2.83L4 21.41c.39.39.9.59 1.41.59.51 0 1.02-.2 1.41-.59l7.78-7.78 2.81-2.81c.8-.78.8-2.07 0-2.86zM5.41 20L4 18.59l7.72-7.72 1.47 1.35L5.41 20z\"/>\n",
              "  </svg>\n",
              "      </button>\n",
              "      \n",
              "  <style>\n",
              "    .colab-df-container {\n",
              "      display:flex;\n",
              "      flex-wrap:wrap;\n",
              "      gap: 12px;\n",
              "    }\n",
              "\n",
              "    .colab-df-convert {\n",
              "      background-color: #E8F0FE;\n",
              "      border: none;\n",
              "      border-radius: 50%;\n",
              "      cursor: pointer;\n",
              "      display: none;\n",
              "      fill: #1967D2;\n",
              "      height: 32px;\n",
              "      padding: 0 0 0 0;\n",
              "      width: 32px;\n",
              "    }\n",
              "\n",
              "    .colab-df-convert:hover {\n",
              "      background-color: #E2EBFA;\n",
              "      box-shadow: 0px 1px 2px rgba(60, 64, 67, 0.3), 0px 1px 3px 1px rgba(60, 64, 67, 0.15);\n",
              "      fill: #174EA6;\n",
              "    }\n",
              "\n",
              "    [theme=dark] .colab-df-convert {\n",
              "      background-color: #3B4455;\n",
              "      fill: #D2E3FC;\n",
              "    }\n",
              "\n",
              "    [theme=dark] .colab-df-convert:hover {\n",
              "      background-color: #434B5C;\n",
              "      box-shadow: 0px 1px 3px 1px rgba(0, 0, 0, 0.15);\n",
              "      filter: drop-shadow(0px 1px 2px rgba(0, 0, 0, 0.3));\n",
              "      fill: #FFFFFF;\n",
              "    }\n",
              "  </style>\n",
              "\n",
              "      <script>\n",
              "        const buttonEl =\n",
              "          document.querySelector('#df-1aaef20b-6679-44a0-83f5-78f490252fd2 button.colab-df-convert');\n",
              "        buttonEl.style.display =\n",
              "          google.colab.kernel.accessAllowed ? 'block' : 'none';\n",
              "\n",
              "        async function convertToInteractive(key) {\n",
              "          const element = document.querySelector('#df-1aaef20b-6679-44a0-83f5-78f490252fd2');\n",
              "          const dataTable =\n",
              "            await google.colab.kernel.invokeFunction('convertToInteractive',\n",
              "                                                     [key], {});\n",
              "          if (!dataTable) return;\n",
              "\n",
              "          const docLinkHtml = 'Like what you see? Visit the ' +\n",
              "            '<a target=\"_blank\" href=https://colab.research.google.com/notebooks/data_table.ipynb>data table notebook</a>'\n",
              "            + ' to learn more about interactive tables.';\n",
              "          element.innerHTML = '';\n",
              "          dataTable['output_type'] = 'display_data';\n",
              "          await google.colab.output.renderOutput(dataTable, element);\n",
              "          const docLink = document.createElement('div');\n",
              "          docLink.innerHTML = docLinkHtml;\n",
              "          element.appendChild(docLink);\n",
              "        }\n",
              "      </script>\n",
              "    </div>\n",
              "  </div>\n",
              "  "
            ]
          },
          "metadata": {},
          "execution_count": 84
        }
      ]
    },
    {
      "cell_type": "code",
      "execution_count": 85,
      "metadata": {
        "colab": {
          "base_uri": "https://localhost:8080/"
        },
        "id": "LDhRVG_lONO2",
        "outputId": "407bf6af-0b3f-4981-e717-4fad1c62e634"
      },
      "outputs": [
        {
          "output_type": "stream",
          "name": "stderr",
          "text": [
            "<ipython-input-85-e8295b98621e>:1: FutureWarning: In a future version of pandas all arguments of DataFrame.drop except for the argument 'labels' will be keyword-only\n",
            "  X = new_df.drop(\"isFraud\", 1)\n"
          ]
        }
      ],
      "source": [
        "X = new_df.drop(\"isFraud\", 1)\n",
        "Y = new_df.isFraud"
      ]
    },
    {
      "cell_type": "code",
      "execution_count": 86,
      "metadata": {
        "id": "J1PrKKohONO2"
      },
      "outputs": [],
      "source": [
        "accountNumber = X['accountNumber']\n",
        "X.drop('accountNumber', axis = 1, inplace = True)"
      ]
    },
    {
      "cell_type": "code",
      "source": [
        "X=X.drop(columns=['Unnamed: 0'], axis=1)"
      ],
      "metadata": {
        "id": "h3AAuB967ppu"
      },
      "execution_count": 87,
      "outputs": []
    },
    {
      "cell_type": "code",
      "source": [
        "X"
      ],
      "metadata": {
        "colab": {
          "base_uri": "https://localhost:8080/",
          "height": 505
        },
        "id": "VczFK-Ud9Tlx",
        "outputId": "a9c493a4-f161-426c-ecad-d63aa4595e80"
      },
      "execution_count": 88,
      "outputs": [
        {
          "output_type": "execute_result",
          "data": {
            "text/plain": [
              "        creditLimit  availableMoney  transactionAmount  posEntryMode  \\\n",
              "0              5000         5000.00              98.55             2   \n",
              "1              5000         5000.00              74.51             9   \n",
              "2              5000         5000.00               7.47             9   \n",
              "3              5000         5000.00               7.47             9   \n",
              "4              5000         5000.00              71.18             2   \n",
              "...             ...             ...                ...           ...   \n",
              "786358        50000        48904.96             119.92            90   \n",
              "786359        50000        48785.04              18.89             9   \n",
              "786360        50000        48766.15              49.43             2   \n",
              "786361        50000        48716.72              49.89             9   \n",
              "786362        50000        48666.83              72.18             5   \n",
              "\n",
              "        posConditionCode  merchantCategoryCode transactionType  \\\n",
              "0                      1             rideshare        PURCHASE   \n",
              "1                      1         entertainment        PURCHASE   \n",
              "2                      1            mobileapps        PURCHASE   \n",
              "3                      1            mobileapps        PURCHASE   \n",
              "4                      1              fastfood        PURCHASE   \n",
              "...                  ...                   ...             ...   \n",
              "786358                 1             rideshare        PURCHASE   \n",
              "786359                 1  online_subscriptions        PURCHASE   \n",
              "786360                 1             rideshare        PURCHASE   \n",
              "786361                99         online_retail        PURCHASE   \n",
              "786362                 1             rideshare        PURCHASE   \n",
              "\n",
              "        currentBalance  cardPresent  expirationDateKeyInMatch  CVV Match  \\\n",
              "0                 0.00        False                     False       True   \n",
              "1                 0.00         True                     False       True   \n",
              "2                 0.00        False                     False       True   \n",
              "3                 0.00        False                     False       True   \n",
              "4                 0.00         True                     False       True   \n",
              "...                ...          ...                       ...        ...   \n",
              "786358         1095.04        False                     False       True   \n",
              "786359         1214.96        False                     False       True   \n",
              "786360         1233.85        False                     False       True   \n",
              "786361         1283.28        False                     False       True   \n",
              "786362         1333.17        False                     False       True   \n",
              "\n",
              "        multiswipeMinutes  FirstVendorPurchase  sameCountry  \n",
              "0                0.000000                 True         True  \n",
              "1            84398.366667                 True         True  \n",
              "2            40572.750000                 True         True  \n",
              "3            45656.183333                False         True  \n",
              "4                0.000000                 True         True  \n",
              "...                   ...                  ...          ...  \n",
              "786358         676.816667                False         True  \n",
              "786359        4176.366667                False         True  \n",
              "786360        2845.833333                False         True  \n",
              "786361        1964.516667                False         True  \n",
              "786362        2619.566667                False         True  \n",
              "\n",
              "[786363 rows x 14 columns]"
            ],
            "text/html": [
              "\n",
              "  <div id=\"df-9c3f7440-ceac-47d8-8475-826bab8c5a12\">\n",
              "    <div class=\"colab-df-container\">\n",
              "      <div>\n",
              "<style scoped>\n",
              "    .dataframe tbody tr th:only-of-type {\n",
              "        vertical-align: middle;\n",
              "    }\n",
              "\n",
              "    .dataframe tbody tr th {\n",
              "        vertical-align: top;\n",
              "    }\n",
              "\n",
              "    .dataframe thead th {\n",
              "        text-align: right;\n",
              "    }\n",
              "</style>\n",
              "<table border=\"1\" class=\"dataframe\">\n",
              "  <thead>\n",
              "    <tr style=\"text-align: right;\">\n",
              "      <th></th>\n",
              "      <th>creditLimit</th>\n",
              "      <th>availableMoney</th>\n",
              "      <th>transactionAmount</th>\n",
              "      <th>posEntryMode</th>\n",
              "      <th>posConditionCode</th>\n",
              "      <th>merchantCategoryCode</th>\n",
              "      <th>transactionType</th>\n",
              "      <th>currentBalance</th>\n",
              "      <th>cardPresent</th>\n",
              "      <th>expirationDateKeyInMatch</th>\n",
              "      <th>CVV Match</th>\n",
              "      <th>multiswipeMinutes</th>\n",
              "      <th>FirstVendorPurchase</th>\n",
              "      <th>sameCountry</th>\n",
              "    </tr>\n",
              "  </thead>\n",
              "  <tbody>\n",
              "    <tr>\n",
              "      <th>0</th>\n",
              "      <td>5000</td>\n",
              "      <td>5000.00</td>\n",
              "      <td>98.55</td>\n",
              "      <td>2</td>\n",
              "      <td>1</td>\n",
              "      <td>rideshare</td>\n",
              "      <td>PURCHASE</td>\n",
              "      <td>0.00</td>\n",
              "      <td>False</td>\n",
              "      <td>False</td>\n",
              "      <td>True</td>\n",
              "      <td>0.000000</td>\n",
              "      <td>True</td>\n",
              "      <td>True</td>\n",
              "    </tr>\n",
              "    <tr>\n",
              "      <th>1</th>\n",
              "      <td>5000</td>\n",
              "      <td>5000.00</td>\n",
              "      <td>74.51</td>\n",
              "      <td>9</td>\n",
              "      <td>1</td>\n",
              "      <td>entertainment</td>\n",
              "      <td>PURCHASE</td>\n",
              "      <td>0.00</td>\n",
              "      <td>True</td>\n",
              "      <td>False</td>\n",
              "      <td>True</td>\n",
              "      <td>84398.366667</td>\n",
              "      <td>True</td>\n",
              "      <td>True</td>\n",
              "    </tr>\n",
              "    <tr>\n",
              "      <th>2</th>\n",
              "      <td>5000</td>\n",
              "      <td>5000.00</td>\n",
              "      <td>7.47</td>\n",
              "      <td>9</td>\n",
              "      <td>1</td>\n",
              "      <td>mobileapps</td>\n",
              "      <td>PURCHASE</td>\n",
              "      <td>0.00</td>\n",
              "      <td>False</td>\n",
              "      <td>False</td>\n",
              "      <td>True</td>\n",
              "      <td>40572.750000</td>\n",
              "      <td>True</td>\n",
              "      <td>True</td>\n",
              "    </tr>\n",
              "    <tr>\n",
              "      <th>3</th>\n",
              "      <td>5000</td>\n",
              "      <td>5000.00</td>\n",
              "      <td>7.47</td>\n",
              "      <td>9</td>\n",
              "      <td>1</td>\n",
              "      <td>mobileapps</td>\n",
              "      <td>PURCHASE</td>\n",
              "      <td>0.00</td>\n",
              "      <td>False</td>\n",
              "      <td>False</td>\n",
              "      <td>True</td>\n",
              "      <td>45656.183333</td>\n",
              "      <td>False</td>\n",
              "      <td>True</td>\n",
              "    </tr>\n",
              "    <tr>\n",
              "      <th>4</th>\n",
              "      <td>5000</td>\n",
              "      <td>5000.00</td>\n",
              "      <td>71.18</td>\n",
              "      <td>2</td>\n",
              "      <td>1</td>\n",
              "      <td>fastfood</td>\n",
              "      <td>PURCHASE</td>\n",
              "      <td>0.00</td>\n",
              "      <td>True</td>\n",
              "      <td>False</td>\n",
              "      <td>True</td>\n",
              "      <td>0.000000</td>\n",
              "      <td>True</td>\n",
              "      <td>True</td>\n",
              "    </tr>\n",
              "    <tr>\n",
              "      <th>...</th>\n",
              "      <td>...</td>\n",
              "      <td>...</td>\n",
              "      <td>...</td>\n",
              "      <td>...</td>\n",
              "      <td>...</td>\n",
              "      <td>...</td>\n",
              "      <td>...</td>\n",
              "      <td>...</td>\n",
              "      <td>...</td>\n",
              "      <td>...</td>\n",
              "      <td>...</td>\n",
              "      <td>...</td>\n",
              "      <td>...</td>\n",
              "      <td>...</td>\n",
              "    </tr>\n",
              "    <tr>\n",
              "      <th>786358</th>\n",
              "      <td>50000</td>\n",
              "      <td>48904.96</td>\n",
              "      <td>119.92</td>\n",
              "      <td>90</td>\n",
              "      <td>1</td>\n",
              "      <td>rideshare</td>\n",
              "      <td>PURCHASE</td>\n",
              "      <td>1095.04</td>\n",
              "      <td>False</td>\n",
              "      <td>False</td>\n",
              "      <td>True</td>\n",
              "      <td>676.816667</td>\n",
              "      <td>False</td>\n",
              "      <td>True</td>\n",
              "    </tr>\n",
              "    <tr>\n",
              "      <th>786359</th>\n",
              "      <td>50000</td>\n",
              "      <td>48785.04</td>\n",
              "      <td>18.89</td>\n",
              "      <td>9</td>\n",
              "      <td>1</td>\n",
              "      <td>online_subscriptions</td>\n",
              "      <td>PURCHASE</td>\n",
              "      <td>1214.96</td>\n",
              "      <td>False</td>\n",
              "      <td>False</td>\n",
              "      <td>True</td>\n",
              "      <td>4176.366667</td>\n",
              "      <td>False</td>\n",
              "      <td>True</td>\n",
              "    </tr>\n",
              "    <tr>\n",
              "      <th>786360</th>\n",
              "      <td>50000</td>\n",
              "      <td>48766.15</td>\n",
              "      <td>49.43</td>\n",
              "      <td>2</td>\n",
              "      <td>1</td>\n",
              "      <td>rideshare</td>\n",
              "      <td>PURCHASE</td>\n",
              "      <td>1233.85</td>\n",
              "      <td>False</td>\n",
              "      <td>False</td>\n",
              "      <td>True</td>\n",
              "      <td>2845.833333</td>\n",
              "      <td>False</td>\n",
              "      <td>True</td>\n",
              "    </tr>\n",
              "    <tr>\n",
              "      <th>786361</th>\n",
              "      <td>50000</td>\n",
              "      <td>48716.72</td>\n",
              "      <td>49.89</td>\n",
              "      <td>9</td>\n",
              "      <td>99</td>\n",
              "      <td>online_retail</td>\n",
              "      <td>PURCHASE</td>\n",
              "      <td>1283.28</td>\n",
              "      <td>False</td>\n",
              "      <td>False</td>\n",
              "      <td>True</td>\n",
              "      <td>1964.516667</td>\n",
              "      <td>False</td>\n",
              "      <td>True</td>\n",
              "    </tr>\n",
              "    <tr>\n",
              "      <th>786362</th>\n",
              "      <td>50000</td>\n",
              "      <td>48666.83</td>\n",
              "      <td>72.18</td>\n",
              "      <td>5</td>\n",
              "      <td>1</td>\n",
              "      <td>rideshare</td>\n",
              "      <td>PURCHASE</td>\n",
              "      <td>1333.17</td>\n",
              "      <td>False</td>\n",
              "      <td>False</td>\n",
              "      <td>True</td>\n",
              "      <td>2619.566667</td>\n",
              "      <td>False</td>\n",
              "      <td>True</td>\n",
              "    </tr>\n",
              "  </tbody>\n",
              "</table>\n",
              "<p>786363 rows × 14 columns</p>\n",
              "</div>\n",
              "      <button class=\"colab-df-convert\" onclick=\"convertToInteractive('df-9c3f7440-ceac-47d8-8475-826bab8c5a12')\"\n",
              "              title=\"Convert this dataframe to an interactive table.\"\n",
              "              style=\"display:none;\">\n",
              "        \n",
              "  <svg xmlns=\"http://www.w3.org/2000/svg\" height=\"24px\"viewBox=\"0 0 24 24\"\n",
              "       width=\"24px\">\n",
              "    <path d=\"M0 0h24v24H0V0z\" fill=\"none\"/>\n",
              "    <path d=\"M18.56 5.44l.94 2.06.94-2.06 2.06-.94-2.06-.94-.94-2.06-.94 2.06-2.06.94zm-11 1L8.5 8.5l.94-2.06 2.06-.94-2.06-.94L8.5 2.5l-.94 2.06-2.06.94zm10 10l.94 2.06.94-2.06 2.06-.94-2.06-.94-.94-2.06-.94 2.06-2.06.94z\"/><path d=\"M17.41 7.96l-1.37-1.37c-.4-.4-.92-.59-1.43-.59-.52 0-1.04.2-1.43.59L10.3 9.45l-7.72 7.72c-.78.78-.78 2.05 0 2.83L4 21.41c.39.39.9.59 1.41.59.51 0 1.02-.2 1.41-.59l7.78-7.78 2.81-2.81c.8-.78.8-2.07 0-2.86zM5.41 20L4 18.59l7.72-7.72 1.47 1.35L5.41 20z\"/>\n",
              "  </svg>\n",
              "      </button>\n",
              "      \n",
              "  <style>\n",
              "    .colab-df-container {\n",
              "      display:flex;\n",
              "      flex-wrap:wrap;\n",
              "      gap: 12px;\n",
              "    }\n",
              "\n",
              "    .colab-df-convert {\n",
              "      background-color: #E8F0FE;\n",
              "      border: none;\n",
              "      border-radius: 50%;\n",
              "      cursor: pointer;\n",
              "      display: none;\n",
              "      fill: #1967D2;\n",
              "      height: 32px;\n",
              "      padding: 0 0 0 0;\n",
              "      width: 32px;\n",
              "    }\n",
              "\n",
              "    .colab-df-convert:hover {\n",
              "      background-color: #E2EBFA;\n",
              "      box-shadow: 0px 1px 2px rgba(60, 64, 67, 0.3), 0px 1px 3px 1px rgba(60, 64, 67, 0.15);\n",
              "      fill: #174EA6;\n",
              "    }\n",
              "\n",
              "    [theme=dark] .colab-df-convert {\n",
              "      background-color: #3B4455;\n",
              "      fill: #D2E3FC;\n",
              "    }\n",
              "\n",
              "    [theme=dark] .colab-df-convert:hover {\n",
              "      background-color: #434B5C;\n",
              "      box-shadow: 0px 1px 3px 1px rgba(0, 0, 0, 0.15);\n",
              "      filter: drop-shadow(0px 1px 2px rgba(0, 0, 0, 0.3));\n",
              "      fill: #FFFFFF;\n",
              "    }\n",
              "  </style>\n",
              "\n",
              "      <script>\n",
              "        const buttonEl =\n",
              "          document.querySelector('#df-9c3f7440-ceac-47d8-8475-826bab8c5a12 button.colab-df-convert');\n",
              "        buttonEl.style.display =\n",
              "          google.colab.kernel.accessAllowed ? 'block' : 'none';\n",
              "\n",
              "        async function convertToInteractive(key) {\n",
              "          const element = document.querySelector('#df-9c3f7440-ceac-47d8-8475-826bab8c5a12');\n",
              "          const dataTable =\n",
              "            await google.colab.kernel.invokeFunction('convertToInteractive',\n",
              "                                                     [key], {});\n",
              "          if (!dataTable) return;\n",
              "\n",
              "          const docLinkHtml = 'Like what you see? Visit the ' +\n",
              "            '<a target=\"_blank\" href=https://colab.research.google.com/notebooks/data_table.ipynb>data table notebook</a>'\n",
              "            + ' to learn more about interactive tables.';\n",
              "          element.innerHTML = '';\n",
              "          dataTable['output_type'] = 'display_data';\n",
              "          await google.colab.output.renderOutput(dataTable, element);\n",
              "          const docLink = document.createElement('div');\n",
              "          docLink.innerHTML = docLinkHtml;\n",
              "          element.appendChild(docLink);\n",
              "        }\n",
              "      </script>\n",
              "    </div>\n",
              "  </div>\n",
              "  "
            ]
          },
          "metadata": {},
          "execution_count": 88
        }
      ]
    },
    {
      "cell_type": "code",
      "source": [
        "X['cardPresent'] = X['cardPresent'].replace({False:0, True:1})\n",
        "X['expirationDateKeyInMatch'] = X['expirationDateKeyInMatch'].replace({False:0, True:1})\n",
        "X['CVV Match'] = X['CVV Match'].replace({False:0, True:1})\n",
        "X['FirstVendorPurchase'] = X['FirstVendorPurchase'].replace({False:0, True:1})\n",
        "X['sameCountry'] = X['sameCountry'].replace({False:0, True:1})"
      ],
      "metadata": {
        "id": "Pnr7T7eFHuoj"
      },
      "execution_count": 89,
      "outputs": []
    },
    {
      "cell_type": "code",
      "source": [
        "from sklearn import preprocessing\n",
        "le = preprocessing.LabelEncoder()"
      ],
      "metadata": {
        "id": "75OARxYb_2Tk"
      },
      "execution_count": 90,
      "outputs": []
    },
    {
      "cell_type": "code",
      "source": [
        "le = preprocessing.LabelEncoder()\n",
        "le.fit(X['merchantCategoryCode'])\n",
        "merchantCategoryCode=le.transform(X['merchantCategoryCode'])\n",
        "filehandler = open(\"/content/merchantCategoryCode.obj\",\"wb\")\n",
        "pickle.dump(le,filehandler)\n",
        "filehandler.close()\n",
        "\n",
        "me = preprocessing.LabelEncoder()\n",
        "me.fit(list(X['transactionType'].values))\n",
        "transactionType=me.transform(X['transactionType'])\n",
        "filehandler = open(\"/content/transactionType.obj\",\"wb\")\n",
        "pickle.dump(me,filehandler)\n",
        "filehandler.close()"
      ],
      "metadata": {
        "id": "9cnDo1fm_7k9"
      },
      "execution_count": 91,
      "outputs": []
    },
    {
      "cell_type": "code",
      "source": [
        "df1=pd.DataFrame(merchantCategoryCode, columns=['merchant Category Code'])\n",
        "df2=pd.DataFrame(transactionType, columns=['transaction Type'])"
      ],
      "metadata": {
        "id": "GAXPj0AfAqH9"
      },
      "execution_count": 92,
      "outputs": []
    },
    {
      "cell_type": "code",
      "source": [
        "X.drop(['merchantCategoryCode', 'transactionType'], axis=1, inplace=True)"
      ],
      "metadata": {
        "id": "kb83Y6kt8A1I"
      },
      "execution_count": 93,
      "outputs": []
    },
    {
      "cell_type": "code",
      "source": [
        "X=pd.concat([X,df1, df2], axis=1)"
      ],
      "metadata": {
        "id": "OR1moHzi8AmU"
      },
      "execution_count": 94,
      "outputs": []
    },
    {
      "cell_type": "code",
      "source": [
        "X.head(5)"
      ],
      "metadata": {
        "colab": {
          "base_uri": "https://localhost:8080/",
          "height": 305
        },
        "id": "UVlnkWnhqr6m",
        "outputId": "85365df3-67ff-4c24-bae0-3df725e01978"
      },
      "execution_count": 95,
      "outputs": [
        {
          "output_type": "execute_result",
          "data": {
            "text/plain": [
              "   creditLimit  availableMoney  transactionAmount  posEntryMode  \\\n",
              "0         5000          5000.0              98.55             2   \n",
              "1         5000          5000.0              74.51             9   \n",
              "2         5000          5000.0               7.47             9   \n",
              "3         5000          5000.0               7.47             9   \n",
              "4         5000          5000.0              71.18             2   \n",
              "\n",
              "   posConditionCode  currentBalance  cardPresent  expirationDateKeyInMatch  \\\n",
              "0                 1             0.0            0                         0   \n",
              "1                 1             0.0            1                         0   \n",
              "2                 1             0.0            0                         0   \n",
              "3                 1             0.0            0                         0   \n",
              "4                 1             0.0            1                         0   \n",
              "\n",
              "   CVV Match  multiswipeMinutes  FirstVendorPurchase  sameCountry  \\\n",
              "0          1           0.000000                    1            1   \n",
              "1          1       84398.366667                    1            1   \n",
              "2          1       40572.750000                    1            1   \n",
              "3          1       45656.183333                    0            1   \n",
              "4          1           0.000000                    1            1   \n",
              "\n",
              "   merchant Category Code  transaction Type  \n",
              "0                      17                 2  \n",
              "1                       3                 2  \n",
              "2                      12                 2  \n",
              "3                      12                 2  \n",
              "4                       4                 2  "
            ],
            "text/html": [
              "\n",
              "  <div id=\"df-6990dbf7-adee-45fe-955d-7699a1cb7e01\">\n",
              "    <div class=\"colab-df-container\">\n",
              "      <div>\n",
              "<style scoped>\n",
              "    .dataframe tbody tr th:only-of-type {\n",
              "        vertical-align: middle;\n",
              "    }\n",
              "\n",
              "    .dataframe tbody tr th {\n",
              "        vertical-align: top;\n",
              "    }\n",
              "\n",
              "    .dataframe thead th {\n",
              "        text-align: right;\n",
              "    }\n",
              "</style>\n",
              "<table border=\"1\" class=\"dataframe\">\n",
              "  <thead>\n",
              "    <tr style=\"text-align: right;\">\n",
              "      <th></th>\n",
              "      <th>creditLimit</th>\n",
              "      <th>availableMoney</th>\n",
              "      <th>transactionAmount</th>\n",
              "      <th>posEntryMode</th>\n",
              "      <th>posConditionCode</th>\n",
              "      <th>currentBalance</th>\n",
              "      <th>cardPresent</th>\n",
              "      <th>expirationDateKeyInMatch</th>\n",
              "      <th>CVV Match</th>\n",
              "      <th>multiswipeMinutes</th>\n",
              "      <th>FirstVendorPurchase</th>\n",
              "      <th>sameCountry</th>\n",
              "      <th>merchant Category Code</th>\n",
              "      <th>transaction Type</th>\n",
              "    </tr>\n",
              "  </thead>\n",
              "  <tbody>\n",
              "    <tr>\n",
              "      <th>0</th>\n",
              "      <td>5000</td>\n",
              "      <td>5000.0</td>\n",
              "      <td>98.55</td>\n",
              "      <td>2</td>\n",
              "      <td>1</td>\n",
              "      <td>0.0</td>\n",
              "      <td>0</td>\n",
              "      <td>0</td>\n",
              "      <td>1</td>\n",
              "      <td>0.000000</td>\n",
              "      <td>1</td>\n",
              "      <td>1</td>\n",
              "      <td>17</td>\n",
              "      <td>2</td>\n",
              "    </tr>\n",
              "    <tr>\n",
              "      <th>1</th>\n",
              "      <td>5000</td>\n",
              "      <td>5000.0</td>\n",
              "      <td>74.51</td>\n",
              "      <td>9</td>\n",
              "      <td>1</td>\n",
              "      <td>0.0</td>\n",
              "      <td>1</td>\n",
              "      <td>0</td>\n",
              "      <td>1</td>\n",
              "      <td>84398.366667</td>\n",
              "      <td>1</td>\n",
              "      <td>1</td>\n",
              "      <td>3</td>\n",
              "      <td>2</td>\n",
              "    </tr>\n",
              "    <tr>\n",
              "      <th>2</th>\n",
              "      <td>5000</td>\n",
              "      <td>5000.0</td>\n",
              "      <td>7.47</td>\n",
              "      <td>9</td>\n",
              "      <td>1</td>\n",
              "      <td>0.0</td>\n",
              "      <td>0</td>\n",
              "      <td>0</td>\n",
              "      <td>1</td>\n",
              "      <td>40572.750000</td>\n",
              "      <td>1</td>\n",
              "      <td>1</td>\n",
              "      <td>12</td>\n",
              "      <td>2</td>\n",
              "    </tr>\n",
              "    <tr>\n",
              "      <th>3</th>\n",
              "      <td>5000</td>\n",
              "      <td>5000.0</td>\n",
              "      <td>7.47</td>\n",
              "      <td>9</td>\n",
              "      <td>1</td>\n",
              "      <td>0.0</td>\n",
              "      <td>0</td>\n",
              "      <td>0</td>\n",
              "      <td>1</td>\n",
              "      <td>45656.183333</td>\n",
              "      <td>0</td>\n",
              "      <td>1</td>\n",
              "      <td>12</td>\n",
              "      <td>2</td>\n",
              "    </tr>\n",
              "    <tr>\n",
              "      <th>4</th>\n",
              "      <td>5000</td>\n",
              "      <td>5000.0</td>\n",
              "      <td>71.18</td>\n",
              "      <td>2</td>\n",
              "      <td>1</td>\n",
              "      <td>0.0</td>\n",
              "      <td>1</td>\n",
              "      <td>0</td>\n",
              "      <td>1</td>\n",
              "      <td>0.000000</td>\n",
              "      <td>1</td>\n",
              "      <td>1</td>\n",
              "      <td>4</td>\n",
              "      <td>2</td>\n",
              "    </tr>\n",
              "  </tbody>\n",
              "</table>\n",
              "</div>\n",
              "      <button class=\"colab-df-convert\" onclick=\"convertToInteractive('df-6990dbf7-adee-45fe-955d-7699a1cb7e01')\"\n",
              "              title=\"Convert this dataframe to an interactive table.\"\n",
              "              style=\"display:none;\">\n",
              "        \n",
              "  <svg xmlns=\"http://www.w3.org/2000/svg\" height=\"24px\"viewBox=\"0 0 24 24\"\n",
              "       width=\"24px\">\n",
              "    <path d=\"M0 0h24v24H0V0z\" fill=\"none\"/>\n",
              "    <path d=\"M18.56 5.44l.94 2.06.94-2.06 2.06-.94-2.06-.94-.94-2.06-.94 2.06-2.06.94zm-11 1L8.5 8.5l.94-2.06 2.06-.94-2.06-.94L8.5 2.5l-.94 2.06-2.06.94zm10 10l.94 2.06.94-2.06 2.06-.94-2.06-.94-.94-2.06-.94 2.06-2.06.94z\"/><path d=\"M17.41 7.96l-1.37-1.37c-.4-.4-.92-.59-1.43-.59-.52 0-1.04.2-1.43.59L10.3 9.45l-7.72 7.72c-.78.78-.78 2.05 0 2.83L4 21.41c.39.39.9.59 1.41.59.51 0 1.02-.2 1.41-.59l7.78-7.78 2.81-2.81c.8-.78.8-2.07 0-2.86zM5.41 20L4 18.59l7.72-7.72 1.47 1.35L5.41 20z\"/>\n",
              "  </svg>\n",
              "      </button>\n",
              "      \n",
              "  <style>\n",
              "    .colab-df-container {\n",
              "      display:flex;\n",
              "      flex-wrap:wrap;\n",
              "      gap: 12px;\n",
              "    }\n",
              "\n",
              "    .colab-df-convert {\n",
              "      background-color: #E8F0FE;\n",
              "      border: none;\n",
              "      border-radius: 50%;\n",
              "      cursor: pointer;\n",
              "      display: none;\n",
              "      fill: #1967D2;\n",
              "      height: 32px;\n",
              "      padding: 0 0 0 0;\n",
              "      width: 32px;\n",
              "    }\n",
              "\n",
              "    .colab-df-convert:hover {\n",
              "      background-color: #E2EBFA;\n",
              "      box-shadow: 0px 1px 2px rgba(60, 64, 67, 0.3), 0px 1px 3px 1px rgba(60, 64, 67, 0.15);\n",
              "      fill: #174EA6;\n",
              "    }\n",
              "\n",
              "    [theme=dark] .colab-df-convert {\n",
              "      background-color: #3B4455;\n",
              "      fill: #D2E3FC;\n",
              "    }\n",
              "\n",
              "    [theme=dark] .colab-df-convert:hover {\n",
              "      background-color: #434B5C;\n",
              "      box-shadow: 0px 1px 3px 1px rgba(0, 0, 0, 0.15);\n",
              "      filter: drop-shadow(0px 1px 2px rgba(0, 0, 0, 0.3));\n",
              "      fill: #FFFFFF;\n",
              "    }\n",
              "  </style>\n",
              "\n",
              "      <script>\n",
              "        const buttonEl =\n",
              "          document.querySelector('#df-6990dbf7-adee-45fe-955d-7699a1cb7e01 button.colab-df-convert');\n",
              "        buttonEl.style.display =\n",
              "          google.colab.kernel.accessAllowed ? 'block' : 'none';\n",
              "\n",
              "        async function convertToInteractive(key) {\n",
              "          const element = document.querySelector('#df-6990dbf7-adee-45fe-955d-7699a1cb7e01');\n",
              "          const dataTable =\n",
              "            await google.colab.kernel.invokeFunction('convertToInteractive',\n",
              "                                                     [key], {});\n",
              "          if (!dataTable) return;\n",
              "\n",
              "          const docLinkHtml = 'Like what you see? Visit the ' +\n",
              "            '<a target=\"_blank\" href=https://colab.research.google.com/notebooks/data_table.ipynb>data table notebook</a>'\n",
              "            + ' to learn more about interactive tables.';\n",
              "          element.innerHTML = '';\n",
              "          dataTable['output_type'] = 'display_data';\n",
              "          await google.colab.output.renderOutput(dataTable, element);\n",
              "          const docLink = document.createElement('div');\n",
              "          docLink.innerHTML = docLinkHtml;\n",
              "          element.appendChild(docLink);\n",
              "        }\n",
              "      </script>\n",
              "    </div>\n",
              "  </div>\n",
              "  "
            ]
          },
          "metadata": {},
          "execution_count": 95
        }
      ]
    },
    {
      "cell_type": "code",
      "execution_count": 96,
      "metadata": {
        "id": "wqpCs5cDONO4"
      },
      "outputs": [],
      "source": [
        "Y = Y.replace({False:0, True:1})"
      ]
    },
    {
      "cell_type": "code",
      "source": [
        "Y"
      ],
      "metadata": {
        "colab": {
          "base_uri": "https://localhost:8080/"
        },
        "id": "BArpakKFIuIb",
        "outputId": "20d34ce6-64cf-4afe-d359-940b05f803c8"
      },
      "execution_count": 97,
      "outputs": [
        {
          "output_type": "execute_result",
          "data": {
            "text/plain": [
              "0         0\n",
              "1         0\n",
              "2         0\n",
              "3         0\n",
              "4         0\n",
              "         ..\n",
              "786358    0\n",
              "786359    0\n",
              "786360    0\n",
              "786361    0\n",
              "786362    0\n",
              "Name: isFraud, Length: 786363, dtype: int64"
            ]
          },
          "metadata": {},
          "execution_count": 97
        }
      ]
    },
    {
      "cell_type": "code",
      "execution_count": 98,
      "metadata": {
        "id": "7AX9uzBhONO7"
      },
      "outputs": [],
      "source": [
        "logit_pipe = Pipeline(\n",
        "    steps = [(\"Classifier\", LogisticRegression())])"
      ]
    },
    {
      "cell_type": "code",
      "execution_count": 99,
      "metadata": {
        "id": "nva-V-5VONO7"
      },
      "outputs": [],
      "source": [
        "sampler = RandomUnderSampler()\n",
        "X_sample, Y_sample = sampler.fit_resample(X.values, Y.values)"
      ]
    },
    {
      "cell_type": "code",
      "execution_count": 100,
      "metadata": {
        "id": "3M_HPVDkONO7"
      },
      "outputs": [],
      "source": [
        "params = {'Classifier__penalty': ['l1','l2'], 'Classifier__C': [0.001,0.01,0.1,1,10,100,1000]}"
      ]
    },
    {
      "cell_type": "code",
      "execution_count": 101,
      "metadata": {
        "id": "8zx53FA3ONO7"
      },
      "outputs": [],
      "source": [
        "grid_lr = GridSearchCV(logit_pipe,\n",
        "                      param_grid=params,\n",
        "                      scoring = 'accuracy', \n",
        "                      cv = 5)"
      ]
    },
    {
      "cell_type": "code",
      "execution_count": 102,
      "metadata": {
        "id": "PiO2RKbRONO7"
      },
      "outputs": [],
      "source": [
        "X_tr, X_ts, Y_tr, Y_ts = train_test_split(X_sample, Y_sample, test_size = 0.4, random_state = 42, stratify=Y_sample)"
      ]
    },
    {
      "cell_type": "code",
      "execution_count": 103,
      "metadata": {
        "colab": {
          "base_uri": "https://localhost:8080/"
        },
        "id": "VsXUmIEJONO7",
        "outputId": "b98f5318-f531-4629-cbe4-513943a34452"
      },
      "outputs": [
        {
          "output_type": "stream",
          "name": "stderr",
          "text": [
            "/usr/local/lib/python3.8/dist-packages/sklearn/linear_model/_logistic.py:814: ConvergenceWarning: lbfgs failed to converge (status=1):\n",
            "STOP: TOTAL NO. of ITERATIONS REACHED LIMIT.\n",
            "\n",
            "Increase the number of iterations (max_iter) or scale the data as shown in:\n",
            "    https://scikit-learn.org/stable/modules/preprocessing.html\n",
            "Please also refer to the documentation for alternative solver options:\n",
            "    https://scikit-learn.org/stable/modules/linear_model.html#logistic-regression\n",
            "  n_iter_i = _check_optimize_result(\n",
            "/usr/local/lib/python3.8/dist-packages/sklearn/linear_model/_logistic.py:814: ConvergenceWarning: lbfgs failed to converge (status=1):\n",
            "STOP: TOTAL NO. of ITERATIONS REACHED LIMIT.\n",
            "\n",
            "Increase the number of iterations (max_iter) or scale the data as shown in:\n",
            "    https://scikit-learn.org/stable/modules/preprocessing.html\n",
            "Please also refer to the documentation for alternative solver options:\n",
            "    https://scikit-learn.org/stable/modules/linear_model.html#logistic-regression\n",
            "  n_iter_i = _check_optimize_result(\n",
            "/usr/local/lib/python3.8/dist-packages/sklearn/linear_model/_logistic.py:814: ConvergenceWarning: lbfgs failed to converge (status=1):\n",
            "STOP: TOTAL NO. of ITERATIONS REACHED LIMIT.\n",
            "\n",
            "Increase the number of iterations (max_iter) or scale the data as shown in:\n",
            "    https://scikit-learn.org/stable/modules/preprocessing.html\n",
            "Please also refer to the documentation for alternative solver options:\n",
            "    https://scikit-learn.org/stable/modules/linear_model.html#logistic-regression\n",
            "  n_iter_i = _check_optimize_result(\n",
            "/usr/local/lib/python3.8/dist-packages/sklearn/linear_model/_logistic.py:814: ConvergenceWarning: lbfgs failed to converge (status=1):\n",
            "STOP: TOTAL NO. of ITERATIONS REACHED LIMIT.\n",
            "\n",
            "Increase the number of iterations (max_iter) or scale the data as shown in:\n",
            "    https://scikit-learn.org/stable/modules/preprocessing.html\n",
            "Please also refer to the documentation for alternative solver options:\n",
            "    https://scikit-learn.org/stable/modules/linear_model.html#logistic-regression\n",
            "  n_iter_i = _check_optimize_result(\n",
            "/usr/local/lib/python3.8/dist-packages/sklearn/linear_model/_logistic.py:814: ConvergenceWarning: lbfgs failed to converge (status=1):\n",
            "STOP: TOTAL NO. of ITERATIONS REACHED LIMIT.\n",
            "\n",
            "Increase the number of iterations (max_iter) or scale the data as shown in:\n",
            "    https://scikit-learn.org/stable/modules/preprocessing.html\n",
            "Please also refer to the documentation for alternative solver options:\n",
            "    https://scikit-learn.org/stable/modules/linear_model.html#logistic-regression\n",
            "  n_iter_i = _check_optimize_result(\n",
            "/usr/local/lib/python3.8/dist-packages/sklearn/linear_model/_logistic.py:814: ConvergenceWarning: lbfgs failed to converge (status=1):\n",
            "STOP: TOTAL NO. of ITERATIONS REACHED LIMIT.\n",
            "\n",
            "Increase the number of iterations (max_iter) or scale the data as shown in:\n",
            "    https://scikit-learn.org/stable/modules/preprocessing.html\n",
            "Please also refer to the documentation for alternative solver options:\n",
            "    https://scikit-learn.org/stable/modules/linear_model.html#logistic-regression\n",
            "  n_iter_i = _check_optimize_result(\n",
            "/usr/local/lib/python3.8/dist-packages/sklearn/linear_model/_logistic.py:814: ConvergenceWarning: lbfgs failed to converge (status=1):\n",
            "STOP: TOTAL NO. of ITERATIONS REACHED LIMIT.\n",
            "\n",
            "Increase the number of iterations (max_iter) or scale the data as shown in:\n",
            "    https://scikit-learn.org/stable/modules/preprocessing.html\n",
            "Please also refer to the documentation for alternative solver options:\n",
            "    https://scikit-learn.org/stable/modules/linear_model.html#logistic-regression\n",
            "  n_iter_i = _check_optimize_result(\n",
            "/usr/local/lib/python3.8/dist-packages/sklearn/linear_model/_logistic.py:814: ConvergenceWarning: lbfgs failed to converge (status=1):\n",
            "STOP: TOTAL NO. of ITERATIONS REACHED LIMIT.\n",
            "\n",
            "Increase the number of iterations (max_iter) or scale the data as shown in:\n",
            "    https://scikit-learn.org/stable/modules/preprocessing.html\n",
            "Please also refer to the documentation for alternative solver options:\n",
            "    https://scikit-learn.org/stable/modules/linear_model.html#logistic-regression\n",
            "  n_iter_i = _check_optimize_result(\n",
            "/usr/local/lib/python3.8/dist-packages/sklearn/linear_model/_logistic.py:814: ConvergenceWarning: lbfgs failed to converge (status=1):\n",
            "STOP: TOTAL NO. of ITERATIONS REACHED LIMIT.\n",
            "\n",
            "Increase the number of iterations (max_iter) or scale the data as shown in:\n",
            "    https://scikit-learn.org/stable/modules/preprocessing.html\n",
            "Please also refer to the documentation for alternative solver options:\n",
            "    https://scikit-learn.org/stable/modules/linear_model.html#logistic-regression\n",
            "  n_iter_i = _check_optimize_result(\n",
            "/usr/local/lib/python3.8/dist-packages/sklearn/linear_model/_logistic.py:814: ConvergenceWarning: lbfgs failed to converge (status=1):\n",
            "STOP: TOTAL NO. of ITERATIONS REACHED LIMIT.\n",
            "\n",
            "Increase the number of iterations (max_iter) or scale the data as shown in:\n",
            "    https://scikit-learn.org/stable/modules/preprocessing.html\n",
            "Please also refer to the documentation for alternative solver options:\n",
            "    https://scikit-learn.org/stable/modules/linear_model.html#logistic-regression\n",
            "  n_iter_i = _check_optimize_result(\n",
            "/usr/local/lib/python3.8/dist-packages/sklearn/linear_model/_logistic.py:814: ConvergenceWarning: lbfgs failed to converge (status=1):\n",
            "STOP: TOTAL NO. of ITERATIONS REACHED LIMIT.\n",
            "\n",
            "Increase the number of iterations (max_iter) or scale the data as shown in:\n",
            "    https://scikit-learn.org/stable/modules/preprocessing.html\n",
            "Please also refer to the documentation for alternative solver options:\n",
            "    https://scikit-learn.org/stable/modules/linear_model.html#logistic-regression\n",
            "  n_iter_i = _check_optimize_result(\n",
            "/usr/local/lib/python3.8/dist-packages/sklearn/linear_model/_logistic.py:814: ConvergenceWarning: lbfgs failed to converge (status=1):\n",
            "STOP: TOTAL NO. of ITERATIONS REACHED LIMIT.\n",
            "\n",
            "Increase the number of iterations (max_iter) or scale the data as shown in:\n",
            "    https://scikit-learn.org/stable/modules/preprocessing.html\n",
            "Please also refer to the documentation for alternative solver options:\n",
            "    https://scikit-learn.org/stable/modules/linear_model.html#logistic-regression\n",
            "  n_iter_i = _check_optimize_result(\n",
            "/usr/local/lib/python3.8/dist-packages/sklearn/linear_model/_logistic.py:814: ConvergenceWarning: lbfgs failed to converge (status=1):\n",
            "STOP: TOTAL NO. of ITERATIONS REACHED LIMIT.\n",
            "\n",
            "Increase the number of iterations (max_iter) or scale the data as shown in:\n",
            "    https://scikit-learn.org/stable/modules/preprocessing.html\n",
            "Please also refer to the documentation for alternative solver options:\n",
            "    https://scikit-learn.org/stable/modules/linear_model.html#logistic-regression\n",
            "  n_iter_i = _check_optimize_result(\n",
            "/usr/local/lib/python3.8/dist-packages/sklearn/linear_model/_logistic.py:814: ConvergenceWarning: lbfgs failed to converge (status=1):\n",
            "STOP: TOTAL NO. of ITERATIONS REACHED LIMIT.\n",
            "\n",
            "Increase the number of iterations (max_iter) or scale the data as shown in:\n",
            "    https://scikit-learn.org/stable/modules/preprocessing.html\n",
            "Please also refer to the documentation for alternative solver options:\n",
            "    https://scikit-learn.org/stable/modules/linear_model.html#logistic-regression\n",
            "  n_iter_i = _check_optimize_result(\n",
            "/usr/local/lib/python3.8/dist-packages/sklearn/linear_model/_logistic.py:814: ConvergenceWarning: lbfgs failed to converge (status=1):\n",
            "STOP: TOTAL NO. of ITERATIONS REACHED LIMIT.\n",
            "\n",
            "Increase the number of iterations (max_iter) or scale the data as shown in:\n",
            "    https://scikit-learn.org/stable/modules/preprocessing.html\n",
            "Please also refer to the documentation for alternative solver options:\n",
            "    https://scikit-learn.org/stable/modules/linear_model.html#logistic-regression\n",
            "  n_iter_i = _check_optimize_result(\n",
            "/usr/local/lib/python3.8/dist-packages/sklearn/linear_model/_logistic.py:814: ConvergenceWarning: lbfgs failed to converge (status=1):\n",
            "STOP: TOTAL NO. of ITERATIONS REACHED LIMIT.\n",
            "\n",
            "Increase the number of iterations (max_iter) or scale the data as shown in:\n",
            "    https://scikit-learn.org/stable/modules/preprocessing.html\n",
            "Please also refer to the documentation for alternative solver options:\n",
            "    https://scikit-learn.org/stable/modules/linear_model.html#logistic-regression\n",
            "  n_iter_i = _check_optimize_result(\n",
            "/usr/local/lib/python3.8/dist-packages/sklearn/linear_model/_logistic.py:814: ConvergenceWarning: lbfgs failed to converge (status=1):\n",
            "STOP: TOTAL NO. of ITERATIONS REACHED LIMIT.\n",
            "\n",
            "Increase the number of iterations (max_iter) or scale the data as shown in:\n",
            "    https://scikit-learn.org/stable/modules/preprocessing.html\n",
            "Please also refer to the documentation for alternative solver options:\n",
            "    https://scikit-learn.org/stable/modules/linear_model.html#logistic-regression\n",
            "  n_iter_i = _check_optimize_result(\n",
            "/usr/local/lib/python3.8/dist-packages/sklearn/linear_model/_logistic.py:814: ConvergenceWarning: lbfgs failed to converge (status=1):\n",
            "STOP: TOTAL NO. of ITERATIONS REACHED LIMIT.\n",
            "\n",
            "Increase the number of iterations (max_iter) or scale the data as shown in:\n",
            "    https://scikit-learn.org/stable/modules/preprocessing.html\n",
            "Please also refer to the documentation for alternative solver options:\n",
            "    https://scikit-learn.org/stable/modules/linear_model.html#logistic-regression\n",
            "  n_iter_i = _check_optimize_result(\n",
            "/usr/local/lib/python3.8/dist-packages/sklearn/linear_model/_logistic.py:814: ConvergenceWarning: lbfgs failed to converge (status=1):\n",
            "STOP: TOTAL NO. of ITERATIONS REACHED LIMIT.\n",
            "\n",
            "Increase the number of iterations (max_iter) or scale the data as shown in:\n",
            "    https://scikit-learn.org/stable/modules/preprocessing.html\n",
            "Please also refer to the documentation for alternative solver options:\n",
            "    https://scikit-learn.org/stable/modules/linear_model.html#logistic-regression\n",
            "  n_iter_i = _check_optimize_result(\n",
            "/usr/local/lib/python3.8/dist-packages/sklearn/linear_model/_logistic.py:814: ConvergenceWarning: lbfgs failed to converge (status=1):\n",
            "STOP: TOTAL NO. of ITERATIONS REACHED LIMIT.\n",
            "\n",
            "Increase the number of iterations (max_iter) or scale the data as shown in:\n",
            "    https://scikit-learn.org/stable/modules/preprocessing.html\n",
            "Please also refer to the documentation for alternative solver options:\n",
            "    https://scikit-learn.org/stable/modules/linear_model.html#logistic-regression\n",
            "  n_iter_i = _check_optimize_result(\n",
            "/usr/local/lib/python3.8/dist-packages/sklearn/linear_model/_logistic.py:814: ConvergenceWarning: lbfgs failed to converge (status=1):\n",
            "STOP: TOTAL NO. of ITERATIONS REACHED LIMIT.\n",
            "\n",
            "Increase the number of iterations (max_iter) or scale the data as shown in:\n",
            "    https://scikit-learn.org/stable/modules/preprocessing.html\n",
            "Please also refer to the documentation for alternative solver options:\n",
            "    https://scikit-learn.org/stable/modules/linear_model.html#logistic-regression\n",
            "  n_iter_i = _check_optimize_result(\n",
            "/usr/local/lib/python3.8/dist-packages/sklearn/linear_model/_logistic.py:814: ConvergenceWarning: lbfgs failed to converge (status=1):\n",
            "STOP: TOTAL NO. of ITERATIONS REACHED LIMIT.\n",
            "\n",
            "Increase the number of iterations (max_iter) or scale the data as shown in:\n",
            "    https://scikit-learn.org/stable/modules/preprocessing.html\n",
            "Please also refer to the documentation for alternative solver options:\n",
            "    https://scikit-learn.org/stable/modules/linear_model.html#logistic-regression\n",
            "  n_iter_i = _check_optimize_result(\n",
            "/usr/local/lib/python3.8/dist-packages/sklearn/linear_model/_logistic.py:814: ConvergenceWarning: lbfgs failed to converge (status=1):\n",
            "STOP: TOTAL NO. of ITERATIONS REACHED LIMIT.\n",
            "\n",
            "Increase the number of iterations (max_iter) or scale the data as shown in:\n",
            "    https://scikit-learn.org/stable/modules/preprocessing.html\n",
            "Please also refer to the documentation for alternative solver options:\n",
            "    https://scikit-learn.org/stable/modules/linear_model.html#logistic-regression\n",
            "  n_iter_i = _check_optimize_result(\n",
            "/usr/local/lib/python3.8/dist-packages/sklearn/linear_model/_logistic.py:814: ConvergenceWarning: lbfgs failed to converge (status=1):\n",
            "STOP: TOTAL NO. of ITERATIONS REACHED LIMIT.\n",
            "\n",
            "Increase the number of iterations (max_iter) or scale the data as shown in:\n",
            "    https://scikit-learn.org/stable/modules/preprocessing.html\n",
            "Please also refer to the documentation for alternative solver options:\n",
            "    https://scikit-learn.org/stable/modules/linear_model.html#logistic-regression\n",
            "  n_iter_i = _check_optimize_result(\n",
            "/usr/local/lib/python3.8/dist-packages/sklearn/linear_model/_logistic.py:814: ConvergenceWarning: lbfgs failed to converge (status=1):\n",
            "STOP: TOTAL NO. of ITERATIONS REACHED LIMIT.\n",
            "\n",
            "Increase the number of iterations (max_iter) or scale the data as shown in:\n",
            "    https://scikit-learn.org/stable/modules/preprocessing.html\n",
            "Please also refer to the documentation for alternative solver options:\n",
            "    https://scikit-learn.org/stable/modules/linear_model.html#logistic-regression\n",
            "  n_iter_i = _check_optimize_result(\n",
            "/usr/local/lib/python3.8/dist-packages/sklearn/linear_model/_logistic.py:814: ConvergenceWarning: lbfgs failed to converge (status=1):\n",
            "STOP: TOTAL NO. of ITERATIONS REACHED LIMIT.\n",
            "\n",
            "Increase the number of iterations (max_iter) or scale the data as shown in:\n",
            "    https://scikit-learn.org/stable/modules/preprocessing.html\n",
            "Please also refer to the documentation for alternative solver options:\n",
            "    https://scikit-learn.org/stable/modules/linear_model.html#logistic-regression\n",
            "  n_iter_i = _check_optimize_result(\n",
            "/usr/local/lib/python3.8/dist-packages/sklearn/model_selection/_validation.py:372: FitFailedWarning: \n",
            "35 fits failed out of a total of 70.\n",
            "The score on these train-test partitions for these parameters will be set to nan.\n",
            "If these failures are not expected, you can try to debug them by setting error_score='raise'.\n",
            "\n",
            "Below are more details about the failures:\n",
            "--------------------------------------------------------------------------------\n",
            "35 fits failed with the following error:\n",
            "Traceback (most recent call last):\n",
            "  File \"/usr/local/lib/python3.8/dist-packages/sklearn/model_selection/_validation.py\", line 680, in _fit_and_score\n",
            "    estimator.fit(X_train, y_train, **fit_params)\n",
            "  File \"/usr/local/lib/python3.8/dist-packages/sklearn/pipeline.py\", line 394, in fit\n",
            "    self._final_estimator.fit(Xt, y, **fit_params_last_step)\n",
            "  File \"/usr/local/lib/python3.8/dist-packages/sklearn/linear_model/_logistic.py\", line 1461, in fit\n",
            "    solver = _check_solver(self.solver, self.penalty, self.dual)\n",
            "  File \"/usr/local/lib/python3.8/dist-packages/sklearn/linear_model/_logistic.py\", line 447, in _check_solver\n",
            "    raise ValueError(\n",
            "ValueError: Solver lbfgs supports only 'l2' or 'none' penalties, got l1 penalty.\n",
            "\n",
            "  warnings.warn(some_fits_failed_message, FitFailedWarning)\n",
            "/usr/local/lib/python3.8/dist-packages/sklearn/model_selection/_search.py:969: UserWarning: One or more of the test scores are non-finite: [       nan 0.60919463        nan 0.61281879        nan 0.60899329\n",
            "        nan 0.60946309        nan 0.6095302         nan 0.60959732\n",
            "        nan 0.60966443]\n",
            "  warnings.warn(\n"
          ]
        },
        {
          "output_type": "execute_result",
          "data": {
            "text/plain": [
              "GridSearchCV(cv=5,\n",
              "             estimator=Pipeline(steps=[('Classifier', LogisticRegression())]),\n",
              "             param_grid={'Classifier__C': [0.001, 0.01, 0.1, 1, 10, 100, 1000],\n",
              "                         'Classifier__penalty': ['l1', 'l2']},\n",
              "             scoring='accuracy')"
            ]
          },
          "metadata": {},
          "execution_count": 103
        }
      ],
      "source": [
        "grid_lr.fit(X_tr, Y_tr)"
      ]
    },
    {
      "cell_type": "code",
      "execution_count": 104,
      "metadata": {
        "id": "q9URzM1sONO7"
      },
      "outputs": [],
      "source": [
        "pred = grid_lr.predict(X_ts)"
      ]
    },
    {
      "cell_type": "code",
      "source": [
        "filehandler = open(\"/content/lr.obj\",\"wb\")\n",
        "pickle.dump(grid_lr,filehandler)\n",
        "filehandler.close()"
      ],
      "metadata": {
        "id": "mxP5e1TlZuPD"
      },
      "execution_count": 110,
      "outputs": []
    },
    {
      "cell_type": "code",
      "execution_count": 111,
      "metadata": {
        "colab": {
          "base_uri": "https://localhost:8080/"
        },
        "id": "HgYfiJPPONO7",
        "outputId": "56ac8857-b4ba-42ee-f72f-7240b9ad1f42"
      },
      "outputs": [
        {
          "output_type": "stream",
          "name": "stdout",
          "text": [
            "0.6096235152003221\n",
            "[[2536 1447]\n",
            " [2431 3520]]\n",
            "              precision    recall  f1-score   support\n",
            "\n",
            "           0       0.51      0.64      0.57      3983\n",
            "           1       0.71      0.59      0.64      5951\n",
            "\n",
            "    accuracy                           0.61      9934\n",
            "   macro avg       0.61      0.61      0.61      9934\n",
            "weighted avg       0.63      0.61      0.61      9934\n",
            "\n"
          ]
        }
      ],
      "source": [
        "print(accuracy_score(pred, Y_ts))\n",
        "print(confusion_matrix(pred, Y_ts))\n",
        "print(classification_report(pred, Y_ts))"
      ]
    },
    {
      "cell_type": "code",
      "execution_count": 112,
      "metadata": {
        "colab": {
          "base_uri": "https://localhost:8080/",
          "height": 351
        },
        "id": "JLQP6XaBONO7",
        "outputId": "fdec1919-7a0d-4874-d3f8-526199baf5e1"
      },
      "outputs": [
        {
          "output_type": "stream",
          "name": "stderr",
          "text": [
            "/usr/local/lib/python3.8/dist-packages/sklearn/utils/deprecation.py:87: FutureWarning: Function plot_roc_curve is deprecated; Function :func:`plot_roc_curve` is deprecated in 1.0 and will be removed in 1.2. Use one of the class methods: :meth:`sklearn.metric.RocCurveDisplay.from_predictions` or :meth:`sklearn.metric.RocCurveDisplay.from_estimator`.\n",
            "  warnings.warn(msg, category=FutureWarning)\n"
          ]
        },
        {
          "output_type": "execute_result",
          "data": {
            "text/plain": [
              "<sklearn.metrics._plot.roc_curve.RocCurveDisplay at 0x7f95031ec4f0>"
            ]
          },
          "metadata": {},
          "execution_count": 112
        },
        {
          "output_type": "display_data",
          "data": {
            "text/plain": [
              "<Figure size 432x288 with 1 Axes>"
            ],
            "image/png": "[encoded data removed]"
          },
          "metadata": {
            "needs_background": "light"
          }
        }
      ],
      "source": [
        "plot_roc_curve(grid_lr, X_ts, Y_ts)"
      ]
    },
    {
      "cell_type": "code",
      "source": [
        "X.columns"
      ],
      "metadata": {
        "colab": {
          "base_uri": "https://localhost:8080/"
        },
        "id": "dVC-0fTmJu_a",
        "outputId": "4a4d394e-5673-42eb-d4bb-f5cd2fbc83c7"
      },
      "execution_count": 113,
      "outputs": [
        {
          "output_type": "execute_result",
          "data": {
            "text/plain": [
              "Index(['creditLimit', 'availableMoney', 'transactionAmount', 'posEntryMode',\n",
              "       'posConditionCode', 'currentBalance', 'cardPresent',\n",
              "       'expirationDateKeyInMatch', 'CVV Match', 'multiswipeMinutes',\n",
              "       'FirstVendorPurchase', 'sameCountry', 'merchant Category Code',\n",
              "       'transaction Type'],\n",
              "      dtype='object')"
            ]
          },
          "metadata": {},
          "execution_count": 113
        }
      ]
    },
    {
      "cell_type": "code",
      "source": [
        "from pandas.core.frame import to_arrays\n",
        "credit_limit= (5000)\n",
        "avaliable_money= (5000)\n",
        "transaction_money= (98.55)\n",
        "POS_entry_mode= 2\n",
        "POS_condition_code= 1\n",
        "merchant_category_code= 'rideshare'\n",
        "transaction_type= 'PURCHASE'\n",
        "current_balance= 0\n",
        "card_present= 'FALSE'\n",
        "expiration_date_key= 'FALSE'\n",
        "CVV= 'TRUE'\n",
        "multi_swipe_minutes= 0\n",
        "first_vendor_purchase= \"TRUE\"\n",
        "same_country= \"TRUE\"\n",
        "\n",
        "file = open(\"/content/merchantCategoryCode.obj\",'rb')\n",
        "le_loaded = pickle.load(file)\n",
        "file.close()\n",
        "\n",
        "file1 = open(\"/content/transactionType.obj\",'rb')\n",
        "le_reloaded = pickle.load(file1)\n",
        "file1.close()\n",
        "\n",
        "file2 = open(\"/content/lr.obj\",'rb')\n",
        "model_reloaded = pickle.load(file2)\n",
        "file2.close()\n",
        "\n",
        "\n",
        "df1= pd.DataFrame(np.array([credit_limit]), columns=['Credit limit'])\n",
        "df2= pd.DataFrame(np.array([avaliable_money]), columns=['avaliable_money'])\n",
        "df3= pd.DataFrame((np.array([transaction_money])), columns=['transaction_money'])\n",
        "df4= pd.DataFrame(np.array([POS_entry_mode]), columns=['POS_entry_mode'])\n",
        "df5= pd.DataFrame(np.array([POS_condition_code]), columns=['POS_condition_code'])\n",
        "df6= pd.DataFrame(np.array([current_balance]), columns=['current_balance'])\n",
        "df7= pd.DataFrame(np.array([multi_swipe_minutes]), columns=['multi_swipe_minutes'])\n",
        "df8= pd.DataFrame(np.array([int((card_present).replace('FALSE',\"0\").replace('TRUE',\"1\"))]), columns=['card_present'])\n",
        "df9= pd.DataFrame(np.array([int((expiration_date_key).replace('FALSE',\"0\").replace('TRUE',\"1\"))]), columns=['expiration_date_key'])\n",
        "df10= pd.DataFrame(np.array([int((CVV).replace('FALSE',\"0\").replace('TRUE',\"1\"))]), columns=['CVV'])\n",
        "df11= pd.DataFrame(np.array([int((first_vendor_purchase).replace('FALSE',\"0\").replace('TRUE',\"1\"))]), columns=['first_vendor_purchase'])\n",
        "df12= pd.DataFrame(np.array([int((same_country).replace('FALSE',\"0\").replace('TRUE',\"1\"))]), columns=['same_country'])\n",
        "df13= pd.DataFrame(le_loaded.transform(np.array([merchant_category_code])), columns=['merchant_category_code'])\n",
        "df14= pd.DataFrame(le_reloaded.transform(np.array([transaction_type])), columns=['transaction_type'])\n",
        "\n",
        "df=pd.concat([df1,df2,df3,df4,df5,df6,df7,df8,df9,df10,df11,df12,df13,df14], axis=1)\n",
        "my_prediction= model_reloaded.predict(df)"
      ],
      "metadata": {
        "colab": {
          "base_uri": "https://localhost:8080/"
        },
        "id": "mW1_7EqZa9EQ",
        "outputId": "8c1cb944-e5fd-4f93-e3a1-46cbd69578cb"
      },
      "execution_count": 116,
      "outputs": [
        {
          "output_type": "stream",
          "name": "stderr",
          "text": [
            "/usr/local/lib/python3.8/dist-packages/sklearn/base.py:443: UserWarning: X has feature names, but LogisticRegression was fitted without feature names\n",
            "  warnings.warn(\n"
          ]
        }
      ]
    },
    {
      "cell_type": "code",
      "source": [
        "my_prediction"
      ],
      "metadata": {
        "colab": {
          "base_uri": "https://localhost:8080/"
        },
        "id": "6EQtDhZJZdE7",
        "outputId": "6b227dec-cdb8-488e-d5bd-b98f916ef3f2"
      },
      "execution_count": 117,
      "outputs": [
        {
          "output_type": "execute_result",
          "data": {
            "text/plain": [
              "array([1])"
            ]
          },
          "metadata": {},
          "execution_count": 117
        }
      ]
    },
    {
      "cell_type": "code",
      "source": [],
      "metadata": {
        "id": "2Zvh8JCePOWd"
      },
      "execution_count": null,
      "outputs": []
    },
    {
      "cell_type": "code",
      "source": [],
      "metadata": {
        "id": "6X0pHr9_POT5"
      },
      "execution_count": null,
      "outputs": []
    },
    {
      "cell_type": "code",
      "source": [],
      "metadata": {
        "id": "9I6g6fiPPORT"
      },
      "execution_count": null,
      "outputs": []
    },
    {
      "cell_type": "code",
      "source": [],
      "metadata": {
        "id": "EEcEM3yoPOPH"
      },
      "execution_count": null,
      "outputs": []
    },
    {
      "cell_type": "code",
      "source": [
        "df1= pd.DataFrame(np.array(credit_limit), columns=['Credit limit'])\n",
        "df2= pd.DataFrame(np.array(avaliable_money), columns=['avaliable_money'])\n",
        "df3= pd.DataFrame(np.array(transaction_money), columns=['transaction_money'])\n",
        "df4= pd.DataFrame(POS_entry_mode, columns=['POS_entry_mode'])\n",
        "df5= pd.DataFrame(POS_condition_code, columns=['POS_condition_code'])\n",
        "df6= pd.DataFrame(merchant_category_code, columns=['merchant_category_code'])\n",
        "df7= pd.DataFrame(transaction_type, columns=['transaction_type'])\n",
        "df8= pd.DataFrame(np.array(current_balance), columns=['current_balance'])\n",
        "df9= pd.DataFrame(card_present, columns=['card_present'])\n",
        "df10= pd.DataFrame(expiration_date_key, columns=['expiration_date_key'])\n",
        "df11= pd.DataFrame(CVV, columns=['CVV'])\n",
        "df12= pd.DataFrame(np.array(multi_swipe_minutes), columns=['multi_swipe_minutes'])\n",
        "df13= pd.DataFrame(first_vendor_purchase, columns=['first_vendor_purchase'])\n",
        "df14= pd.DataFrame(same_country, columns=['same_country'])"
      ],
      "metadata": {
        "id": "mE-NIse-8Aga"
      },
      "execution_count": null,
      "outputs": []
    },
    {
      "cell_type": "code",
      "source": [],
      "metadata": {
        "id": "Gy7Hw_k78Adz"
      },
      "execution_count": null,
      "outputs": []
    },
    {
      "cell_type": "code",
      "source": [],
      "metadata": {
        "id": "x88c93mU8AbG"
      },
      "execution_count": null,
      "outputs": []
    },
    {
      "cell_type": "markdown",
      "metadata": {
        "id": "FpvPqdpZONO1"
      },
      "source": [
        "##### Description:\n",
        "\n",
        "As opposed to using a json file everytime and storing the csv file is going to take a lot of space, the data is pickled into a mediocre size as opposed to almost 600MB of the entire JSON file.\n",
        "\n",
        "##### Reading and storing the dataset:\n",
        "\n",
        "Using the inbuilt function of reading pickle, I imported teh Dataset."
      ]
    },
    {
      "cell_type": "markdown",
      "metadata": {
        "id": "4KxgbXU0ONO1"
      },
      "source": [
        "### [3] \n",
        "\n",
        "### Cleaning and preparing the data to train:"
      ]
    },
    {
      "cell_type": "markdown",
      "metadata": {
        "id": "SAxMy0K5ONO2"
      },
      "source": [
        "#### [3.1]\n",
        "\n",
        "Splitting the X and Y parts of the data where Y is the variable to predict i.e. isFraud and X is rest others"
      ]
    },
    {
      "cell_type": "markdown",
      "metadata": {
        "id": "esRCWOx8ONO2"
      },
      "source": [
        "#### [3.2]\n",
        "\n",
        "Preserving the accountNumber as it might be useful in future.\n",
        "\n",
        "(Spoiler Alert: It is not useful)"
      ]
    },
    {
      "cell_type": "markdown",
      "metadata": {
        "id": "31erDVJtONO3"
      },
      "source": [
        "#### [3.3]\n",
        "\n",
        "#### Record classification\n",
        "\n",
        "**Method:** \n",
        "    \n",
        "Classifying the variables into boolean, categorical and numeric.\n",
        "\n",
        "Numeric: The records which are neither boolean or object type\n",
        "\n",
        "Boolean: The record which are boolean type\n",
        "\n",
        "Categorical: The records which are object type"
      ]
    },
    {
      "cell_type": "code",
      "execution_count": 9,
      "metadata": {
        "id": "kjA80Y9DONO3"
      },
      "outputs": [],
      "source": [
        "numeric = []\n",
        "for column in X.columns.to_list():\n",
        "    if(X[column].dtype != object and X[column].dtype!=bool):\n",
        "        numeric.append(column)"
      ]
    },
    {
      "cell_type": "code",
      "execution_count": 10,
      "metadata": {
        "colab": {
          "base_uri": "https://localhost:8080/"
        },
        "id": "RBRT8pvJONO3",
        "outputId": "5b1cca75-0f2d-42c8-a762-dfb3be04dfe9"
      },
      "outputs": [
        {
          "output_type": "execute_result",
          "data": {
            "text/plain": [
              "['Unnamed: 0',\n",
              " 'creditLimit',\n",
              " 'availableMoney',\n",
              " 'transactionAmount',\n",
              " 'posEntryMode',\n",
              " 'posConditionCode',\n",
              " 'currentBalance',\n",
              " 'multiswipeMinutes']"
            ]
          },
          "metadata": {},
          "execution_count": 10
        }
      ],
      "source": [
        "numeric"
      ]
    },
    {
      "cell_type": "code",
      "execution_count": 11,
      "metadata": {
        "id": "_VEQWBrXONO3"
      },
      "outputs": [],
      "source": [
        "boolean_col = []\n",
        "for column in X.columns.to_list():\n",
        "    if(X[column].dtype == bool):\n",
        "        boolean_col.append(column)"
      ]
    },
    {
      "cell_type": "code",
      "execution_count": 12,
      "metadata": {
        "colab": {
          "base_uri": "https://localhost:8080/"
        },
        "id": "QGfi4FpDONO4",
        "outputId": "89434e87-0ef9-4d5d-9f5d-79c3470920b2"
      },
      "outputs": [
        {
          "output_type": "execute_result",
          "data": {
            "text/plain": [
              "['cardPresent',\n",
              " 'expirationDateKeyInMatch',\n",
              " 'CVV Match',\n",
              " 'FirstVendorPurchase',\n",
              " 'sameCountry']"
            ]
          },
          "metadata": {},
          "execution_count": 12
        }
      ],
      "source": [
        "boolean_col"
      ]
    },
    {
      "cell_type": "markdown",
      "metadata": {
        "id": "NSnLI44NONO4"
      },
      "source": [
        "#### [3.4] \n",
        "\n",
        "#### Conversion\n",
        "\n",
        "Converting the boolean to 0,1 as opposed to False, True. \n",
        "\n",
        "Since Y is also in boolean format, we are converting it into 0,1 as well"
      ]
    },
    {
      "cell_type": "code",
      "execution_count": 13,
      "metadata": {
        "id": "Par01aV9ONO4"
      },
      "outputs": [],
      "source": [
        "for column in boolean_col:\n",
        "    X[column] = X[column].replace({False:0, True:1})"
      ]
    },
    {
      "cell_type": "code",
      "execution_count": 15,
      "metadata": {
        "colab": {
          "base_uri": "https://localhost:8080/"
        },
        "id": "asupqDZuONO4",
        "outputId": "62c93318-2de1-4d4e-f4d7-2787a5b20ab2"
      },
      "outputs": [
        {
          "output_type": "execute_result",
          "data": {
            "text/plain": [
              "0    100\n",
              "Name: isFraud, dtype: int64"
            ]
          },
          "metadata": {},
          "execution_count": 15
        }
      ],
      "source": [
        "Y.value_counts()"
      ]
    },
    {
      "cell_type": "code",
      "execution_count": 16,
      "metadata": {
        "id": "86Qd0K3XONO4"
      },
      "outputs": [],
      "source": [
        "object_col = []\n",
        "for column in X.columns.to_list():\n",
        "    if(X[column].dtype == object):\n",
        "        object_col.append(column)"
      ]
    },
    {
      "cell_type": "markdown",
      "metadata": {
        "id": "7BxrnxprONO4"
      },
      "source": [
        "#### [3.5]\n",
        "\n",
        "#### One-Hot Encoding"
      ]
    },
    {
      "cell_type": "markdown",
      "metadata": {
        "id": "Dgclw402ONO5"
      },
      "source": [
        "##### Description:\n",
        "\n",
        "Using the pandas get_dummies method to use the one-hot encoding method. \n",
        "\n",
        "##### Suggestion: \n",
        "This step can be avoided using the Scikit-learn Pipeline and the ColumnTransformer which can create one-hot encoding at the run-time as opposed to storing in the dataset\n",
        "\n",
        "##### Input Variables:\n",
        "\n",
        "The categorical columns along with the dataset.\n",
        "\n",
        "##### Output variables:\n",
        "\n",
        "The dataset with the dummy variables:\n"
      ]
    },
    {
      "cell_type": "code",
      "execution_count": 17,
      "metadata": {
        "id": "dyoiPv1VONO5"
      },
      "outputs": [],
      "source": [
        "X_dummies = pd.get_dummies(X, columns = [\"posEntryMode\", \"posConditionCode\", \"merchantCategoryCode\", \"transactionType\"])"
      ]
    },
    {
      "cell_type": "code",
      "execution_count": 18,
      "metadata": {
        "colab": {
          "base_uri": "https://localhost:8080/",
          "height": 317
        },
        "id": "jv8oJJW0ONO5",
        "outputId": "f47800b4-d2af-411e-c8e8-168dcc3c2118"
      },
      "outputs": [
        {
          "output_type": "execute_result",
          "data": {
            "text/plain": [
              "   Unnamed: 0  creditLimit  availableMoney  transactionAmount  currentBalance  \\\n",
              "0           0         5000          5000.0              98.55             0.0   \n",
              "1           1         5000          5000.0              74.51             0.0   \n",
              "2           2         5000          5000.0               7.47             0.0   \n",
              "3           3         5000          5000.0               7.47             0.0   \n",
              "4           4         5000          5000.0              71.18             0.0   \n",
              "\n",
              "   cardPresent  expirationDateKeyInMatch  CVV Match  multiswipeMinutes  \\\n",
              "0            0                         0          1           0.000000   \n",
              "1            1                         0          1       84398.366667   \n",
              "2            0                         0          1       40572.750000   \n",
              "3            0                         0          1       45656.183333   \n",
              "4            1                         0          1           0.000000   \n",
              "\n",
              "   FirstVendorPurchase  ...  merchantCategoryCode_entertainment  \\\n",
              "0                    1  ...                                   0   \n",
              "1                    1  ...                                   1   \n",
              "2                    1  ...                                   0   \n",
              "3                    0  ...                                   0   \n",
              "4                    1  ...                                   0   \n",
              "\n",
              "   merchantCategoryCode_fastfood  merchantCategoryCode_food_delivery  \\\n",
              "0                              0                                   0   \n",
              "1                              0                                   0   \n",
              "2                              0                                   0   \n",
              "3                              0                                   0   \n",
              "4                              1                                   0   \n",
              "\n",
              "   merchantCategoryCode_gym  merchantCategoryCode_mobileapps  \\\n",
              "0                         0                                0   \n",
              "1                         0                                0   \n",
              "2                         0                                1   \n",
              "3                         0                                1   \n",
              "4                         0                                0   \n",
              "\n",
              "   merchantCategoryCode_online_retail  merchantCategoryCode_rideshare  \\\n",
              "0                                   0                               1   \n",
              "1                                   0                               0   \n",
              "2                                   0                               0   \n",
              "3                                   0                               0   \n",
              "4                                   0                               0   \n",
              "\n",
              "   transactionType_ADDRESS_VERIFICATION  transactionType_PURCHASE  \\\n",
              "0                                     0                         1   \n",
              "1                                     0                         1   \n",
              "2                                     0                         1   \n",
              "3                                     0                         1   \n",
              "4                                     0                         1   \n",
              "\n",
              "   transactionType_REVERSAL  \n",
              "0                         0  \n",
              "1                         0  \n",
              "2                         0  \n",
              "3                         0  \n",
              "4                         0  \n",
              "\n",
              "[5 rows x 29 columns]"
            ],
            "text/html": [
              "\n",
              "  <div id=\"df-7a0d86d7-636b-4cf9-adc6-2a2269e04593\">\n",
              "    <div class=\"colab-df-container\">\n",
              "      <div>\n",
              "<style scoped>\n",
              "    .dataframe tbody tr th:only-of-type {\n",
              "        vertical-align: middle;\n",
              "    }\n",
              "\n",
              "    .dataframe tbody tr th {\n",
              "        vertical-align: top;\n",
              "    }\n",
              "\n",
              "    .dataframe thead th {\n",
              "        text-align: right;\n",
              "    }\n",
              "</style>\n",
              "<table border=\"1\" class=\"dataframe\">\n",
              "  <thead>\n",
              "    <tr style=\"text-align: right;\">\n",
              "      <th></th>\n",
              "      <th>Unnamed: 0</th>\n",
              "      <th>creditLimit</th>\n",
              "      <th>availableMoney</th>\n",
              "      <th>transactionAmount</th>\n",
              "      <th>currentBalance</th>\n",
              "      <th>cardPresent</th>\n",
              "      <th>expirationDateKeyInMatch</th>\n",
              "      <th>CVV Match</th>\n",
              "      <th>multiswipeMinutes</th>\n",
              "      <th>FirstVendorPurchase</th>\n",
              "      <th>...</th>\n",
              "      <th>merchantCategoryCode_entertainment</th>\n",
              "      <th>merchantCategoryCode_fastfood</th>\n",
              "      <th>merchantCategoryCode_food_delivery</th>\n",
              "      <th>merchantCategoryCode_gym</th>\n",
              "      <th>merchantCategoryCode_mobileapps</th>\n",
              "      <th>merchantCategoryCode_online_retail</th>\n",
              "      <th>merchantCategoryCode_rideshare</th>\n",
              "      <th>transactionType_ADDRESS_VERIFICATION</th>\n",
              "      <th>transactionType_PURCHASE</th>\n",
              "      <th>transactionType_REVERSAL</th>\n",
              "    </tr>\n",
              "  </thead>\n",
              "  <tbody>\n",
              "    <tr>\n",
              "      <th>0</th>\n",
              "      <td>0</td>\n",
              "      <td>5000</td>\n",
              "      <td>5000.0</td>\n",
              "      <td>98.55</td>\n",
              "      <td>0.0</td>\n",
              "      <td>0</td>\n",
              "      <td>0</td>\n",
              "      <td>1</td>\n",
              "      <td>0.000000</td>\n",
              "      <td>1</td>\n",
              "      <td>...</td>\n",
              "      <td>0</td>\n",
              "      <td>0</td>\n",
              "      <td>0</td>\n",
              "      <td>0</td>\n",
              "      <td>0</td>\n",
              "      <td>0</td>\n",
              "      <td>1</td>\n",
              "      <td>0</td>\n",
              "      <td>1</td>\n",
              "      <td>0</td>\n",
              "    </tr>\n",
              "    <tr>\n",
              "      <th>1</th>\n",
              "      <td>1</td>\n",
              "      <td>5000</td>\n",
              "      <td>5000.0</td>\n",
              "      <td>74.51</td>\n",
              "      <td>0.0</td>\n",
              "      <td>1</td>\n",
              "      <td>0</td>\n",
              "      <td>1</td>\n",
              "      <td>84398.366667</td>\n",
              "      <td>1</td>\n",
              "      <td>...</td>\n",
              "      <td>1</td>\n",
              "      <td>0</td>\n",
              "      <td>0</td>\n",
              "      <td>0</td>\n",
              "      <td>0</td>\n",
              "      <td>0</td>\n",
              "      <td>0</td>\n",
              "      <td>0</td>\n",
              "      <td>1</td>\n",
              "      <td>0</td>\n",
              "    </tr>\n",
              "    <tr>\n",
              "      <th>2</th>\n",
              "      <td>2</td>\n",
              "      <td>5000</td>\n",
              "      <td>5000.0</td>\n",
              "      <td>7.47</td>\n",
              "      <td>0.0</td>\n",
              "      <td>0</td>\n",
              "      <td>0</td>\n",
              "      <td>1</td>\n",
              "      <td>40572.750000</td>\n",
              "      <td>1</td>\n",
              "      <td>...</td>\n",
              "      <td>0</td>\n",
              "      <td>0</td>\n",
              "      <td>0</td>\n",
              "      <td>0</td>\n",
              "      <td>1</td>\n",
              "      <td>0</td>\n",
              "      <td>0</td>\n",
              "      <td>0</td>\n",
              "      <td>1</td>\n",
              "      <td>0</td>\n",
              "    </tr>\n",
              "    <tr>\n",
              "      <th>3</th>\n",
              "      <td>3</td>\n",
              "      <td>5000</td>\n",
              "      <td>5000.0</td>\n",
              "      <td>7.47</td>\n",
              "      <td>0.0</td>\n",
              "      <td>0</td>\n",
              "      <td>0</td>\n",
              "      <td>1</td>\n",
              "      <td>45656.183333</td>\n",
              "      <td>0</td>\n",
              "      <td>...</td>\n",
              "      <td>0</td>\n",
              "      <td>0</td>\n",
              "      <td>0</td>\n",
              "      <td>0</td>\n",
              "      <td>1</td>\n",
              "      <td>0</td>\n",
              "      <td>0</td>\n",
              "      <td>0</td>\n",
              "      <td>1</td>\n",
              "      <td>0</td>\n",
              "    </tr>\n",
              "    <tr>\n",
              "      <th>4</th>\n",
              "      <td>4</td>\n",
              "      <td>5000</td>\n",
              "      <td>5000.0</td>\n",
              "      <td>71.18</td>\n",
              "      <td>0.0</td>\n",
              "      <td>1</td>\n",
              "      <td>0</td>\n",
              "      <td>1</td>\n",
              "      <td>0.000000</td>\n",
              "      <td>1</td>\n",
              "      <td>...</td>\n",
              "      <td>0</td>\n",
              "      <td>1</td>\n",
              "      <td>0</td>\n",
              "      <td>0</td>\n",
              "      <td>0</td>\n",
              "      <td>0</td>\n",
              "      <td>0</td>\n",
              "      <td>0</td>\n",
              "      <td>1</td>\n",
              "      <td>0</td>\n",
              "    </tr>\n",
              "  </tbody>\n",
              "</table>\n",
              "<p>5 rows × 29 columns</p>\n",
              "</div>\n",
              "      <button class=\"colab-df-convert\" onclick=\"convertToInteractive('df-7a0d86d7-636b-4cf9-adc6-2a2269e04593')\"\n",
              "              title=\"Convert this dataframe to an interactive table.\"\n",
              "              style=\"display:none;\">\n",
              "        \n",
              "  <svg xmlns=\"http://www.w3.org/2000/svg\" height=\"24px\"viewBox=\"0 0 24 24\"\n",
              "       width=\"24px\">\n",
              "    <path d=\"M0 0h24v24H0V0z\" fill=\"none\"/>\n",
              "    <path d=\"M18.56 5.44l.94 2.06.94-2.06 2.06-.94-2.06-.94-.94-2.06-.94 2.06-2.06.94zm-11 1L8.5 8.5l.94-2.06 2.06-.94-2.06-.94L8.5 2.5l-.94 2.06-2.06.94zm10 10l.94 2.06.94-2.06 2.06-.94-2.06-.94-.94-2.06-.94 2.06-2.06.94z\"/><path d=\"M17.41 7.96l-1.37-1.37c-.4-.4-.92-.59-1.43-.59-.52 0-1.04.2-1.43.59L10.3 9.45l-7.72 7.72c-.78.78-.78 2.05 0 2.83L4 21.41c.39.39.9.59 1.41.59.51 0 1.02-.2 1.41-.59l7.78-7.78 2.81-2.81c.8-.78.8-2.07 0-2.86zM5.41 20L4 18.59l7.72-7.72 1.47 1.35L5.41 20z\"/>\n",
              "  </svg>\n",
              "      </button>\n",
              "      \n",
              "  <style>\n",
              "    .colab-df-container {\n",
              "      display:flex;\n",
              "      flex-wrap:wrap;\n",
              "      gap: 12px;\n",
              "    }\n",
              "\n",
              "    .colab-df-convert {\n",
              "      background-color: #E8F0FE;\n",
              "      border: none;\n",
              "      border-radius: 50%;\n",
              "      cursor: pointer;\n",
              "      display: none;\n",
              "      fill: #1967D2;\n",
              "      height: 32px;\n",
              "      padding: 0 0 0 0;\n",
              "      width: 32px;\n",
              "    }\n",
              "\n",
              "    .colab-df-convert:hover {\n",
              "      background-color: #E2EBFA;\n",
              "      box-shadow: 0px 1px 2px rgba(60, 64, 67, 0.3), 0px 1px 3px 1px rgba(60, 64, 67, 0.15);\n",
              "      fill: #174EA6;\n",
              "    }\n",
              "\n",
              "    [theme=dark] .colab-df-convert {\n",
              "      background-color: #3B4455;\n",
              "      fill: #D2E3FC;\n",
              "    }\n",
              "\n",
              "    [theme=dark] .colab-df-convert:hover {\n",
              "      background-color: #434B5C;\n",
              "      box-shadow: 0px 1px 3px 1px rgba(0, 0, 0, 0.15);\n",
              "      filter: drop-shadow(0px 1px 2px rgba(0, 0, 0, 0.3));\n",
              "      fill: #FFFFFF;\n",
              "    }\n",
              "  </style>\n",
              "\n",
              "      <script>\n",
              "        const buttonEl =\n",
              "          document.querySelector('#df-7a0d86d7-636b-4cf9-adc6-2a2269e04593 button.colab-df-convert');\n",
              "        buttonEl.style.display =\n",
              "          google.colab.kernel.accessAllowed ? 'block' : 'none';\n",
              "\n",
              "        async function convertToInteractive(key) {\n",
              "          const element = document.querySelector('#df-7a0d86d7-636b-4cf9-adc6-2a2269e04593');\n",
              "          const dataTable =\n",
              "            await google.colab.kernel.invokeFunction('convertToInteractive',\n",
              "                                                     [key], {});\n",
              "          if (!dataTable) return;\n",
              "\n",
              "          const docLinkHtml = 'Like what you see? Visit the ' +\n",
              "            '<a target=\"_blank\" href=https://colab.research.google.com/notebooks/data_table.ipynb>data table notebook</a>'\n",
              "            + ' to learn more about interactive tables.';\n",
              "          element.innerHTML = '';\n",
              "          dataTable['output_type'] = 'display_data';\n",
              "          await google.colab.output.renderOutput(dataTable, element);\n",
              "          const docLink = document.createElement('div');\n",
              "          docLink.innerHTML = docLinkHtml;\n",
              "          element.appendChild(docLink);\n",
              "        }\n",
              "      </script>\n",
              "    </div>\n",
              "  </div>\n",
              "  "
            ]
          },
          "metadata": {},
          "execution_count": 18
        }
      ],
      "source": [
        "X_dummies.head()"
      ]
    },
    {
      "cell_type": "markdown",
      "metadata": {
        "id": "33a02obgONO5"
      },
      "source": [
        "#### [3.6]\n",
        "\n",
        "#### Column Transformer:\n",
        "\n",
        "Using StandardScaler to passthrough only the numeric columns for the standard scaling."
      ]
    },
    {
      "cell_type": "markdown",
      "metadata": {
        "id": "cSx-Hnx2ONO5"
      },
      "source": [
        " \n",
        " "
      ]
    },
    {
      "cell_type": "markdown",
      "metadata": {
        "id": "AIh0fRLmONO5"
      },
      "source": [
        "### [4]\n",
        "\n",
        "### Modelling"
      ]
    },
    {
      "cell_type": "markdown",
      "metadata": {
        "id": "_kbSOOb6ONO5"
      },
      "source": [
        " "
      ]
    },
    {
      "cell_type": "markdown",
      "metadata": {
        "id": "ZM0CIuDQONO5"
      },
      "source": [
        "##### This part discusses the models that are used throughout the training and testing process. The justification for the models is given after this section."
      ]
    },
    {
      "cell_type": "markdown",
      "metadata": {
        "id": "VL0YMUvmONO5"
      },
      "source": [
        "#### [4.1]\n",
        "#### DECISION TREE"
      ]
    },
    {
      "cell_type": "markdown",
      "metadata": {
        "id": "8-_7GthEONO5"
      },
      "source": [
        "#### Decision Tree Inputs\n",
        "\n",
        "##### Description:\n",
        "\n",
        "Creating a sklearn pipeline using the ColumnTransformer and the DecisionTreeClassifier and pass through all the variable\n",
        "\n",
        "##### Parameters for Classifier: \n",
        "\n",
        "Criterion on which the Tree is trained:\n",
        "    \n",
        "    Gini\n",
        "    Entropy\n",
        "\n",
        "Max Depth of the tree:\n",
        "    \n",
        "    3,4,5,6,7,8,9,10,11,12,13,14,15,16,17,18,19,20\n",
        "    \n",
        "##### Inputs:\n",
        "\n",
        "For the training of the data:\n",
        "    X_resample and Y_resample:\n",
        "        \n",
        "##### Resampling of Data:\n",
        "\n",
        "Why are we resampling the data?\n",
        "    \n",
        "    Before resampling the data, I tried creating a classifer which resulted in 96% accuracy although, bad class 1 accuracy. Hence we undersampled the data so that the classifier can properly identify the features and train it easily\n",
        "        "
      ]
    },
    {
      "cell_type": "code",
      "execution_count": 20,
      "metadata": {
        "id": "PG8uL31yONO5"
      },
      "outputs": [],
      "source": [
        "decisionTree_pipe = Pipeline(\n",
        "    steps = [(\"Transformer\", ct), (\"Classifier\", DecisionTreeClassifier())])"
      ]
    },
    {
      "cell_type": "code",
      "execution_count": 23,
      "metadata": {
        "id": "_tPcaOrwONO6"
      },
      "outputs": [],
      "source": [
        "# sampler = RandomUnderSampler()\n",
        "X_sample, Y_sample = (X_dummies, Y)"
      ]
    },
    {
      "cell_type": "code",
      "source": [
        "X_dummies"
      ],
      "metadata": {
        "colab": {
          "base_uri": "https://localhost:8080/",
          "height": 505
        },
        "id": "HxIJCZQ75As_",
        "outputId": "6d8a65e8-c21b-411f-dd18-f888cd9218c4"
      },
      "execution_count": 28,
      "outputs": [
        {
          "output_type": "execute_result",
          "data": {
            "text/plain": [
              "    Unnamed: 0  creditLimit  availableMoney  transactionAmount  \\\n",
              "0            0         5000         5000.00              98.55   \n",
              "1            1         5000         5000.00              74.51   \n",
              "2            2         5000         5000.00               7.47   \n",
              "3            3         5000         5000.00               7.47   \n",
              "4            4         5000         5000.00              71.18   \n",
              "..         ...          ...             ...                ...   \n",
              "95          95        50000        50000.00             293.54   \n",
              "96          96        50000        50000.00             138.22   \n",
              "97          97        50000        49861.78              54.95   \n",
              "98          98        50000        50000.00              73.38   \n",
              "99          99        50000        49926.62             273.94   \n",
              "\n",
              "    currentBalance  cardPresent  expirationDateKeyInMatch  CVV Match  \\\n",
              "0             0.00            0                         0          1   \n",
              "1             0.00            1                         0          1   \n",
              "2             0.00            0                         0          1   \n",
              "3             0.00            0                         0          1   \n",
              "4             0.00            1                         0          1   \n",
              "..             ...          ...                       ...        ...   \n",
              "95            0.00            0                         0          1   \n",
              "96            0.00            0                         0          1   \n",
              "97          138.22            0                         0          1   \n",
              "98            0.00            0                         0          1   \n",
              "99           73.38            0                         0          1   \n",
              "\n",
              "    multiswipeMinutes  FirstVendorPurchase  ...  \\\n",
              "0            0.000000                    1  ...   \n",
              "1        84398.366667                    1  ...   \n",
              "2        40572.750000                    1  ...   \n",
              "3        45656.183333                    0  ...   \n",
              "4            0.000000                    1  ...   \n",
              "..                ...                  ...  ...   \n",
              "95       96035.083333                    0  ...   \n",
              "96       39845.466667                    0  ...   \n",
              "97        4730.266667                    0  ...   \n",
              "98       71309.333333                    0  ...   \n",
              "99       31710.450000                    0  ...   \n",
              "\n",
              "    merchantCategoryCode_entertainment  merchantCategoryCode_fastfood  \\\n",
              "0                                    0                              0   \n",
              "1                                    1                              0   \n",
              "2                                    0                              0   \n",
              "3                                    0                              0   \n",
              "4                                    0                              1   \n",
              "..                                 ...                            ...   \n",
              "95                                   0                              0   \n",
              "96                                   0                              0   \n",
              "97                                   0                              0   \n",
              "98                                   0                              0   \n",
              "99                                   0                              0   \n",
              "\n",
              "    merchantCategoryCode_food_delivery  merchantCategoryCode_gym  \\\n",
              "0                                    0                         0   \n",
              "1                                    0                         0   \n",
              "2                                    0                         0   \n",
              "3                                    0                         0   \n",
              "4                                    0                         0   \n",
              "..                                 ...                       ...   \n",
              "95                                   0                         0   \n",
              "96                                   0                         0   \n",
              "97                                   0                         0   \n",
              "98                                   0                         0   \n",
              "99                                   0                         0   \n",
              "\n",
              "    merchantCategoryCode_mobileapps  merchantCategoryCode_online_retail  \\\n",
              "0                                 0                                   0   \n",
              "1                                 0                                   0   \n",
              "2                                 1                                   0   \n",
              "3                                 1                                   0   \n",
              "4                                 0                                   0   \n",
              "..                              ...                                 ...   \n",
              "95                                0                                   1   \n",
              "96                                0                                   1   \n",
              "97                                0                                   1   \n",
              "98                                0                                   1   \n",
              "99                                0                                   1   \n",
              "\n",
              "    merchantCategoryCode_rideshare  transactionType_ADDRESS_VERIFICATION  \\\n",
              "0                                1                                     0   \n",
              "1                                0                                     0   \n",
              "2                                0                                     0   \n",
              "3                                0                                     0   \n",
              "4                                0                                     0   \n",
              "..                             ...                                   ...   \n",
              "95                               0                                     0   \n",
              "96                               0                                     0   \n",
              "97                               0                                     0   \n",
              "98                               0                                     0   \n",
              "99                               0                                     0   \n",
              "\n",
              "    transactionType_PURCHASE  transactionType_REVERSAL  \n",
              "0                          1                         0  \n",
              "1                          1                         0  \n",
              "2                          1                         0  \n",
              "3                          1                         0  \n",
              "4                          1                         0  \n",
              "..                       ...                       ...  \n",
              "95                         1                         0  \n",
              "96                         1                         0  \n",
              "97                         1                         0  \n",
              "98                         1                         0  \n",
              "99                         1                         0  \n",
              "\n",
              "[100 rows x 29 columns]"
            ],
            "text/html": [
              "\n",
              "  <div id=\"df-13990901-36fa-4697-b53d-60e652a8ccad\">\n",
              "    <div class=\"colab-df-container\">\n",
              "      <div>\n",
              "<style scoped>\n",
              "    .dataframe tbody tr th:only-of-type {\n",
              "        vertical-align: middle;\n",
              "    }\n",
              "\n",
              "    .dataframe tbody tr th {\n",
              "        vertical-align: top;\n",
              "    }\n",
              "\n",
              "    .dataframe thead th {\n",
              "        text-align: right;\n",
              "    }\n",
              "</style>\n",
              "<table border=\"1\" class=\"dataframe\">\n",
              "  <thead>\n",
              "    <tr style=\"text-align: right;\">\n",
              "      <th></th>\n",
              "      <th>Unnamed: 0</th>\n",
              "      <th>creditLimit</th>\n",
              "      <th>availableMoney</th>\n",
              "      <th>transactionAmount</th>\n",
              "      <th>currentBalance</th>\n",
              "      <th>cardPresent</th>\n",
              "      <th>expirationDateKeyInMatch</th>\n",
              "      <th>CVV Match</th>\n",
              "      <th>multiswipeMinutes</th>\n",
              "      <th>FirstVendorPurchase</th>\n",
              "      <th>...</th>\n",
              "      <th>merchantCategoryCode_entertainment</th>\n",
              "      <th>merchantCategoryCode_fastfood</th>\n",
              "      <th>merchantCategoryCode_food_delivery</th>\n",
              "      <th>merchantCategoryCode_gym</th>\n",
              "      <th>merchantCategoryCode_mobileapps</th>\n",
              "      <th>merchantCategoryCode_online_retail</th>\n",
              "      <th>merchantCategoryCode_rideshare</th>\n",
              "      <th>transactionType_ADDRESS_VERIFICATION</th>\n",
              "      <th>transactionType_PURCHASE</th>\n",
              "      <th>transactionType_REVERSAL</th>\n",
              "    </tr>\n",
              "  </thead>\n",
              "  <tbody>\n",
              "    <tr>\n",
              "      <th>0</th>\n",
              "      <td>0</td>\n",
              "      <td>5000</td>\n",
              "      <td>5000.00</td>\n",
              "      <td>98.55</td>\n",
              "      <td>0.00</td>\n",
              "      <td>0</td>\n",
              "      <td>0</td>\n",
              "      <td>1</td>\n",
              "      <td>0.000000</td>\n",
              "      <td>1</td>\n",
              "      <td>...</td>\n",
              "      <td>0</td>\n",
              "      <td>0</td>\n",
              "      <td>0</td>\n",
              "      <td>0</td>\n",
              "      <td>0</td>\n",
              "      <td>0</td>\n",
              "      <td>1</td>\n",
              "      <td>0</td>\n",
              "      <td>1</td>\n",
              "      <td>0</td>\n",
              "    </tr>\n",
              "    <tr>\n",
              "      <th>1</th>\n",
              "      <td>1</td>\n",
              "      <td>5000</td>\n",
              "      <td>5000.00</td>\n",
              "      <td>74.51</td>\n",
              "      <td>0.00</td>\n",
              "      <td>1</td>\n",
              "      <td>0</td>\n",
              "      <td>1</td>\n",
              "      <td>84398.366667</td>\n",
              "      <td>1</td>\n",
              "      <td>...</td>\n",
              "      <td>1</td>\n",
              "      <td>0</td>\n",
              "      <td>0</td>\n",
              "      <td>0</td>\n",
              "      <td>0</td>\n",
              "      <td>0</td>\n",
              "      <td>0</td>\n",
              "      <td>0</td>\n",
              "      <td>1</td>\n",
              "      <td>0</td>\n",
              "    </tr>\n",
              "    <tr>\n",
              "      <th>2</th>\n",
              "      <td>2</td>\n",
              "      <td>5000</td>\n",
              "      <td>5000.00</td>\n",
              "      <td>7.47</td>\n",
              "      <td>0.00</td>\n",
              "      <td>0</td>\n",
              "      <td>0</td>\n",
              "      <td>1</td>\n",
              "      <td>40572.750000</td>\n",
              "      <td>1</td>\n",
              "      <td>...</td>\n",
              "      <td>0</td>\n",
              "      <td>0</td>\n",
              "      <td>0</td>\n",
              "      <td>0</td>\n",
              "      <td>1</td>\n",
              "      <td>0</td>\n",
              "      <td>0</td>\n",
              "      <td>0</td>\n",
              "      <td>1</td>\n",
              "      <td>0</td>\n",
              "    </tr>\n",
              "    <tr>\n",
              "      <th>3</th>\n",
              "      <td>3</td>\n",
              "      <td>5000</td>\n",
              "      <td>5000.00</td>\n",
              "      <td>7.47</td>\n",
              "      <td>0.00</td>\n",
              "      <td>0</td>\n",
              "      <td>0</td>\n",
              "      <td>1</td>\n",
              "      <td>45656.183333</td>\n",
              "      <td>0</td>\n",
              "      <td>...</td>\n",
              "      <td>0</td>\n",
              "      <td>0</td>\n",
              "      <td>0</td>\n",
              "      <td>0</td>\n",
              "      <td>1</td>\n",
              "      <td>0</td>\n",
              "      <td>0</td>\n",
              "      <td>0</td>\n",
              "      <td>1</td>\n",
              "      <td>0</td>\n",
              "    </tr>\n",
              "    <tr>\n",
              "      <th>4</th>\n",
              "      <td>4</td>\n",
              "      <td>5000</td>\n",
              "      <td>5000.00</td>\n",
              "      <td>71.18</td>\n",
              "      <td>0.00</td>\n",
              "      <td>1</td>\n",
              "      <td>0</td>\n",
              "      <td>1</td>\n",
              "      <td>0.000000</td>\n",
              "      <td>1</td>\n",
              "      <td>...</td>\n",
              "      <td>0</td>\n",
              "      <td>1</td>\n",
              "      <td>0</td>\n",
              "      <td>0</td>\n",
              "      <td>0</td>\n",
              "      <td>0</td>\n",
              "      <td>0</td>\n",
              "      <td>0</td>\n",
              "      <td>1</td>\n",
              "      <td>0</td>\n",
              "    </tr>\n",
              "    <tr>\n",
              "      <th>...</th>\n",
              "      <td>...</td>\n",
              "      <td>...</td>\n",
              "      <td>...</td>\n",
              "      <td>...</td>\n",
              "      <td>...</td>\n",
              "      <td>...</td>\n",
              "      <td>...</td>\n",
              "      <td>...</td>\n",
              "      <td>...</td>\n",
              "      <td>...</td>\n",
              "      <td>...</td>\n",
              "      <td>...</td>\n",
              "      <td>...</td>\n",
              "      <td>...</td>\n",
              "      <td>...</td>\n",
              "      <td>...</td>\n",
              "      <td>...</td>\n",
              "      <td>...</td>\n",
              "      <td>...</td>\n",
              "      <td>...</td>\n",
              "      <td>...</td>\n",
              "    </tr>\n",
              "    <tr>\n",
              "      <th>95</th>\n",
              "      <td>95</td>\n",
              "      <td>50000</td>\n",
              "      <td>50000.00</td>\n",
              "      <td>293.54</td>\n",
              "      <td>0.00</td>\n",
              "      <td>0</td>\n",
              "      <td>0</td>\n",
              "      <td>1</td>\n",
              "      <td>96035.083333</td>\n",
              "      <td>0</td>\n",
              "      <td>...</td>\n",
              "      <td>0</td>\n",
              "      <td>0</td>\n",
              "      <td>0</td>\n",
              "      <td>0</td>\n",
              "      <td>0</td>\n",
              "      <td>1</td>\n",
              "      <td>0</td>\n",
              "      <td>0</td>\n",
              "      <td>1</td>\n",
              "      <td>0</td>\n",
              "    </tr>\n",
              "    <tr>\n",
              "      <th>96</th>\n",
              "      <td>96</td>\n",
              "      <td>50000</td>\n",
              "      <td>50000.00</td>\n",
              "      <td>138.22</td>\n",
              "      <td>0.00</td>\n",
              "      <td>0</td>\n",
              "      <td>0</td>\n",
              "      <td>1</td>\n",
              "      <td>39845.466667</td>\n",
              "      <td>0</td>\n",
              "      <td>...</td>\n",
              "      <td>0</td>\n",
              "      <td>0</td>\n",
              "      <td>0</td>\n",
              "      <td>0</td>\n",
              "      <td>0</td>\n",
              "      <td>1</td>\n",
              "      <td>0</td>\n",
              "      <td>0</td>\n",
              "      <td>1</td>\n",
              "      <td>0</td>\n",
              "    </tr>\n",
              "    <tr>\n",
              "      <th>97</th>\n",
              "      <td>97</td>\n",
              "      <td>50000</td>\n",
              "      <td>49861.78</td>\n",
              "      <td>54.95</td>\n",
              "      <td>138.22</td>\n",
              "      <td>0</td>\n",
              "      <td>0</td>\n",
              "      <td>1</td>\n",
              "      <td>4730.266667</td>\n",
              "      <td>0</td>\n",
              "      <td>...</td>\n",
              "      <td>0</td>\n",
              "      <td>0</td>\n",
              "      <td>0</td>\n",
              "      <td>0</td>\n",
              "      <td>0</td>\n",
              "      <td>1</td>\n",
              "      <td>0</td>\n",
              "      <td>0</td>\n",
              "      <td>1</td>\n",
              "      <td>0</td>\n",
              "    </tr>\n",
              "    <tr>\n",
              "      <th>98</th>\n",
              "      <td>98</td>\n",
              "      <td>50000</td>\n",
              "      <td>50000.00</td>\n",
              "      <td>73.38</td>\n",
              "      <td>0.00</td>\n",
              "      <td>0</td>\n",
              "      <td>0</td>\n",
              "      <td>1</td>\n",
              "      <td>71309.333333</td>\n",
              "      <td>0</td>\n",
              "      <td>...</td>\n",
              "      <td>0</td>\n",
              "      <td>0</td>\n",
              "      <td>0</td>\n",
              "      <td>0</td>\n",
              "      <td>0</td>\n",
              "      <td>1</td>\n",
              "      <td>0</td>\n",
              "      <td>0</td>\n",
              "      <td>1</td>\n",
              "      <td>0</td>\n",
              "    </tr>\n",
              "    <tr>\n",
              "      <th>99</th>\n",
              "      <td>99</td>\n",
              "      <td>50000</td>\n",
              "      <td>49926.62</td>\n",
              "      <td>273.94</td>\n",
              "      <td>73.38</td>\n",
              "      <td>0</td>\n",
              "      <td>0</td>\n",
              "      <td>1</td>\n",
              "      <td>31710.450000</td>\n",
              "      <td>0</td>\n",
              "      <td>...</td>\n",
              "      <td>0</td>\n",
              "      <td>0</td>\n",
              "      <td>0</td>\n",
              "      <td>0</td>\n",
              "      <td>0</td>\n",
              "      <td>1</td>\n",
              "      <td>0</td>\n",
              "      <td>0</td>\n",
              "      <td>1</td>\n",
              "      <td>0</td>\n",
              "    </tr>\n",
              "  </tbody>\n",
              "</table>\n",
              "<p>100 rows × 29 columns</p>\n",
              "</div>\n",
              "      <button class=\"colab-df-convert\" onclick=\"convertToInteractive('df-13990901-36fa-4697-b53d-60e652a8ccad')\"\n",
              "              title=\"Convert this dataframe to an interactive table.\"\n",
              "              style=\"display:none;\">\n",
              "        \n",
              "  <svg xmlns=\"http://www.w3.org/2000/svg\" height=\"24px\"viewBox=\"0 0 24 24\"\n",
              "       width=\"24px\">\n",
              "    <path d=\"M0 0h24v24H0V0z\" fill=\"none\"/>\n",
              "    <path d=\"M18.56 5.44l.94 2.06.94-2.06 2.06-.94-2.06-.94-.94-2.06-.94 2.06-2.06.94zm-11 1L8.5 8.5l.94-2.06 2.06-.94-2.06-.94L8.5 2.5l-.94 2.06-2.06.94zm10 10l.94 2.06.94-2.06 2.06-.94-2.06-.94-.94-2.06-.94 2.06-2.06.94z\"/><path d=\"M17.41 7.96l-1.37-1.37c-.4-.4-.92-.59-1.43-.59-.52 0-1.04.2-1.43.59L10.3 9.45l-7.72 7.72c-.78.78-.78 2.05 0 2.83L4 21.41c.39.39.9.59 1.41.59.51 0 1.02-.2 1.41-.59l7.78-7.78 2.81-2.81c.8-.78.8-2.07 0-2.86zM5.41 20L4 18.59l7.72-7.72 1.47 1.35L5.41 20z\"/>\n",
              "  </svg>\n",
              "      </button>\n",
              "      \n",
              "  <style>\n",
              "    .colab-df-container {\n",
              "      display:flex;\n",
              "      flex-wrap:wrap;\n",
              "      gap: 12px;\n",
              "    }\n",
              "\n",
              "    .colab-df-convert {\n",
              "      background-color: #E8F0FE;\n",
              "      border: none;\n",
              "      border-radius: 50%;\n",
              "      cursor: pointer;\n",
              "      display: none;\n",
              "      fill: #1967D2;\n",
              "      height: 32px;\n",
              "      padding: 0 0 0 0;\n",
              "      width: 32px;\n",
              "    }\n",
              "\n",
              "    .colab-df-convert:hover {\n",
              "      background-color: #E2EBFA;\n",
              "      box-shadow: 0px 1px 2px rgba(60, 64, 67, 0.3), 0px 1px 3px 1px rgba(60, 64, 67, 0.15);\n",
              "      fill: #174EA6;\n",
              "    }\n",
              "\n",
              "    [theme=dark] .colab-df-convert {\n",
              "      background-color: #3B4455;\n",
              "      fill: #D2E3FC;\n",
              "    }\n",
              "\n",
              "    [theme=dark] .colab-df-convert:hover {\n",
              "      background-color: #434B5C;\n",
              "      box-shadow: 0px 1px 3px 1px rgba(0, 0, 0, 0.15);\n",
              "      filter: drop-shadow(0px 1px 2px rgba(0, 0, 0, 0.3));\n",
              "      fill: #FFFFFF;\n",
              "    }\n",
              "  </style>\n",
              "\n",
              "      <script>\n",
              "        const buttonEl =\n",
              "          document.querySelector('#df-13990901-36fa-4697-b53d-60e652a8ccad button.colab-df-convert');\n",
              "        buttonEl.style.display =\n",
              "          google.colab.kernel.accessAllowed ? 'block' : 'none';\n",
              "\n",
              "        async function convertToInteractive(key) {\n",
              "          const element = document.querySelector('#df-13990901-36fa-4697-b53d-60e652a8ccad');\n",
              "          const dataTable =\n",
              "            await google.colab.kernel.invokeFunction('convertToInteractive',\n",
              "                                                     [key], {});\n",
              "          if (!dataTable) return;\n",
              "\n",
              "          const docLinkHtml = 'Like what you see? Visit the ' +\n",
              "            '<a target=\"_blank\" href=https://colab.research.google.com/notebooks/data_table.ipynb>data table notebook</a>'\n",
              "            + ' to learn more about interactive tables.';\n",
              "          element.innerHTML = '';\n",
              "          dataTable['output_type'] = 'display_data';\n",
              "          await google.colab.output.renderOutput(dataTable, element);\n",
              "          const docLink = document.createElement('div');\n",
              "          docLink.innerHTML = docLinkHtml;\n",
              "          element.appendChild(docLink);\n",
              "        }\n",
              "      </script>\n",
              "    </div>\n",
              "  </div>\n",
              "  "
            ]
          },
          "metadata": {},
          "execution_count": 28
        }
      ]
    },
    {
      "cell_type": "code",
      "source": [],
      "metadata": {
        "id": "ap8mYL4Z5HGq"
      },
      "execution_count": null,
      "outputs": []
    },
    {
      "cell_type": "code",
      "execution_count": 24,
      "metadata": {
        "id": "6EfQ4awhONO6"
      },
      "outputs": [],
      "source": [
        "params = {'Classifier__criterion':['gini', 'entropy'],'Classifier__max_depth':np.arange(3, 20)}"
      ]
    },
    {
      "cell_type": "code",
      "execution_count": 25,
      "metadata": {
        "id": "GWAleZphONO6"
      },
      "outputs": [],
      "source": [
        "grid_dt = GridSearchCV(decisionTree_pipe,\n",
        "                      param_grid=params,\n",
        "                      scoring = 'accuracy', \n",
        "                      cv = 5)"
      ]
    },
    {
      "cell_type": "code",
      "execution_count": 26,
      "metadata": {
        "id": "xeeDV6cTONO6"
      },
      "outputs": [],
      "source": [
        "X_tr, X_ts, Y_tr, Y_ts = train_test_split(X_sample, Y_sample, test_size = 0.4, random_state = 42, stratify=Y_sample)"
      ]
    },
    {
      "cell_type": "code",
      "execution_count": 27,
      "metadata": {
        "colab": {
          "base_uri": "https://localhost:8080/",
          "height": 1000
        },
        "id": "x8C4rl0UONO6",
        "outputId": "e8e6eeee-d3d1-4ccc-f21f-df8aade35ec5"
      },
      "outputs": [
        {
          "output_type": "stream",
          "name": "stderr",
          "text": [
            "/usr/local/lib/python3.8/dist-packages/sklearn/model_selection/_validation.py:372: FitFailedWarning: \n",
            "170 fits failed out of a total of 170.\n",
            "The score on these train-test partitions for these parameters will be set to nan.\n",
            "If these failures are not expected, you can try to debug them by setting error_score='raise'.\n",
            "\n",
            "Below are more details about the failures:\n",
            "--------------------------------------------------------------------------------\n",
            "170 fits failed with the following error:\n",
            "Traceback (most recent call last):\n",
            "  File \"/usr/local/lib/python3.8/dist-packages/pandas/core/indexes/base.py\", line 3361, in get_loc\n",
            "    return self._engine.get_loc(casted_key)\n",
            "  File \"pandas/_libs/index.pyx\", line 76, in pandas._libs.index.IndexEngine.get_loc\n",
            "  File \"pandas/_libs/index.pyx\", line 108, in pandas._libs.index.IndexEngine.get_loc\n",
            "  File \"pandas/_libs/hashtable_class_helper.pxi\", line 5198, in pandas._libs.hashtable.PyObjectHashTable.get_item\n",
            "  File \"pandas/_libs/hashtable_class_helper.pxi\", line 5206, in pandas._libs.hashtable.PyObjectHashTable.get_item\n",
            "KeyError: 'posEntryMode'\n",
            "\n",
            "The above exception was the direct cause of the following exception:\n",
            "\n",
            "Traceback (most recent call last):\n",
            "  File \"/usr/local/lib/python3.8/dist-packages/sklearn/utils/__init__.py\", line 433, in _get_column_indices\n",
            "    col_idx = all_columns.get_loc(col)\n",
            "  File \"/usr/local/lib/python3.8/dist-packages/pandas/core/indexes/base.py\", line 3363, in get_loc\n",
            "    raise KeyError(key) from err\n",
            "KeyError: 'posEntryMode'\n",
            "\n",
            "The above exception was the direct cause of the following exception:\n",
            "\n",
            "Traceback (most recent call last):\n",
            "  File \"/usr/local/lib/python3.8/dist-packages/sklearn/model_selection/_validation.py\", line 680, in _fit_and_score\n",
            "    estimator.fit(X_train, y_train, **fit_params)\n",
            "  File \"/usr/local/lib/python3.8/dist-packages/sklearn/pipeline.py\", line 390, in fit\n",
            "    Xt = self._fit(X, y, **fit_params_steps)\n",
            "  File \"/usr/local/lib/python3.8/dist-packages/sklearn/pipeline.py\", line 348, in _fit\n",
            "    X, fitted_transformer = fit_transform_one_cached(\n",
            "  File \"/usr/local/lib/python3.8/dist-packages/joblib/memory.py\", line 349, in __call__\n",
            "    return self.func(*args, **kwargs)\n",
            "  File \"/usr/local/lib/python3.8/dist-packages/sklearn/pipeline.py\", line 893, in _fit_transform_one\n",
            "    res = transformer.fit_transform(X, y, **fit_params)\n",
            "  File \"/usr/local/lib/python3.8/dist-packages/sklearn/compose/_column_transformer.py\", line 672, in fit_transform\n",
            "    self._validate_column_callables(X)\n",
            "  File \"/usr/local/lib/python3.8/dist-packages/sklearn/compose/_column_transformer.py\", line 352, in _validate_column_callables\n",
            "    transformer_to_input_indices[name] = _get_column_indices(X, columns)\n",
            "  File \"/usr/local/lib/python3.8/dist-packages/sklearn/utils/__init__.py\", line 441, in _get_column_indices\n",
            "    raise ValueError(\"A given column is not a column of the dataframe\") from e\n",
            "ValueError: A given column is not a column of the dataframe\n",
            "\n",
            "  warnings.warn(some_fits_failed_message, FitFailedWarning)\n",
            "/usr/local/lib/python3.8/dist-packages/sklearn/model_selection/_search.py:969: UserWarning: One or more of the test scores are non-finite: [nan nan nan nan nan nan nan nan nan nan nan nan nan nan nan nan nan nan\n",
            " nan nan nan nan nan nan nan nan nan nan nan nan nan nan nan nan]\n",
            "  warnings.warn(\n"
          ]
        },
        {
          "output_type": "error",
          "ename": "ValueError",
          "evalue": "ignored",
          "traceback": [
            "\u001b[0;31m---------------------------------------------------------------------------\u001b[0m",
            "\u001b[0;31mKeyError\u001b[0m                                  Traceback (most recent call last)",
            "\u001b[0;32m/usr/local/lib/python3.8/dist-packages/pandas/core/indexes/base.py\u001b[0m in \u001b[0;36mget_loc\u001b[0;34m(self, key, method, tolerance)\u001b[0m\n\u001b[1;32m   3360\u001b[0m             \u001b[0;32mtry\u001b[0m\u001b[0;34m:\u001b[0m\u001b[0;34m\u001b[0m\u001b[0;34m\u001b[0m\u001b[0m\n\u001b[0;32m-> 3361\u001b[0;31m                 \u001b[0;32mreturn\u001b[0m \u001b[0mself\u001b[0m\u001b[0;34m.\u001b[0m\u001b[0m_engine\u001b[0m\u001b[0;34m.\u001b[0m\u001b[0mget_loc\u001b[0m\u001b[0;34m(\u001b[0m\u001b[0mcasted_key\u001b[0m\u001b[0;34m)\u001b[0m\u001b[0;34m\u001b[0m\u001b[0;34m\u001b[0m\u001b[0m\n\u001b[0m\u001b[1;32m   3362\u001b[0m             \u001b[0;32mexcept\u001b[0m \u001b[0mKeyError\u001b[0m \u001b[0;32mas\u001b[0m \u001b[0merr\u001b[0m\u001b[0;34m:\u001b[0m\u001b[0;34m\u001b[0m\u001b[0;34m\u001b[0m\u001b[0m\n",
            "\u001b[0;32m/usr/local/lib/python3.8/dist-packages/pandas/_libs/index.pyx\u001b[0m in \u001b[0;36mpandas._libs.index.IndexEngine.get_loc\u001b[0;34m()\u001b[0m\n",
            "\u001b[0;32m/usr/local/lib/python3.8/dist-packages/pandas/_libs/index.pyx\u001b[0m in \u001b[0;36mpandas._libs.index.IndexEngine.get_loc\u001b[0;34m()\u001b[0m\n",
            "\u001b[0;32mpandas/_libs/hashtable_class_helper.pxi\u001b[0m in \u001b[0;36mpandas._libs.hashtable.PyObjectHashTable.get_item\u001b[0;34m()\u001b[0m\n",
            "\u001b[0;32mpandas/_libs/hashtable_class_helper.pxi\u001b[0m in \u001b[0;36mpandas._libs.hashtable.PyObjectHashTable.get_item\u001b[0;34m()\u001b[0m\n",
            "\u001b[0;31mKeyError\u001b[0m: 'posEntryMode'",
            "\nThe above exception was the direct cause of the following exception:\n",
            "\u001b[0;31mKeyError\u001b[0m                                  Traceback (most recent call last)",
            "\u001b[0;32m/usr/local/lib/python3.8/dist-packages/sklearn/utils/__init__.py\u001b[0m in \u001b[0;36m_get_column_indices\u001b[0;34m(X, key)\u001b[0m\n\u001b[1;32m    432\u001b[0m             \u001b[0;32mfor\u001b[0m \u001b[0mcol\u001b[0m \u001b[0;32min\u001b[0m \u001b[0mcolumns\u001b[0m\u001b[0;34m:\u001b[0m\u001b[0;34m\u001b[0m\u001b[0;34m\u001b[0m\u001b[0m\n\u001b[0;32m--> 433\u001b[0;31m                 \u001b[0mcol_idx\u001b[0m \u001b[0;34m=\u001b[0m \u001b[0mall_columns\u001b[0m\u001b[0;34m.\u001b[0m\u001b[0mget_loc\u001b[0m\u001b[0;34m(\u001b[0m\u001b[0mcol\u001b[0m\u001b[0;34m)\u001b[0m\u001b[0;34m\u001b[0m\u001b[0;34m\u001b[0m\u001b[0m\n\u001b[0m\u001b[1;32m    434\u001b[0m                 \u001b[0;32mif\u001b[0m \u001b[0;32mnot\u001b[0m \u001b[0misinstance\u001b[0m\u001b[0;34m(\u001b[0m\u001b[0mcol_idx\u001b[0m\u001b[0;34m,\u001b[0m \u001b[0mnumbers\u001b[0m\u001b[0;34m.\u001b[0m\u001b[0mIntegral\u001b[0m\u001b[0;34m)\u001b[0m\u001b[0;34m:\u001b[0m\u001b[0;34m\u001b[0m\u001b[0;34m\u001b[0m\u001b[0m\n",
            "\u001b[0;32m/usr/local/lib/python3.8/dist-packages/pandas/core/indexes/base.py\u001b[0m in \u001b[0;36mget_loc\u001b[0;34m(self, key, method, tolerance)\u001b[0m\n\u001b[1;32m   3362\u001b[0m             \u001b[0;32mexcept\u001b[0m \u001b[0mKeyError\u001b[0m \u001b[0;32mas\u001b[0m \u001b[0merr\u001b[0m\u001b[0;34m:\u001b[0m\u001b[0;34m\u001b[0m\u001b[0;34m\u001b[0m\u001b[0m\n\u001b[0;32m-> 3363\u001b[0;31m                 \u001b[0;32mraise\u001b[0m \u001b[0mKeyError\u001b[0m\u001b[0;34m(\u001b[0m\u001b[0mkey\u001b[0m\u001b[0;34m)\u001b[0m \u001b[0;32mfrom\u001b[0m \u001b[0merr\u001b[0m\u001b[0;34m\u001b[0m\u001b[0;34m\u001b[0m\u001b[0m\n\u001b[0m\u001b[1;32m   3364\u001b[0m \u001b[0;34m\u001b[0m\u001b[0m\n",
            "\u001b[0;31mKeyError\u001b[0m: 'posEntryMode'",
            "\nThe above exception was the direct cause of the following exception:\n",
            "\u001b[0;31mValueError\u001b[0m                                Traceback (most recent call last)",
            "\u001b[0;32m<ipython-input-27-3410325ba304>\u001b[0m in \u001b[0;36m<module>\u001b[0;34m\u001b[0m\n\u001b[0;32m----> 1\u001b[0;31m \u001b[0mgrid_dt\u001b[0m\u001b[0;34m.\u001b[0m\u001b[0mfit\u001b[0m\u001b[0;34m(\u001b[0m\u001b[0mX_tr\u001b[0m\u001b[0;34m,\u001b[0m \u001b[0mY_tr\u001b[0m\u001b[0;34m)\u001b[0m\u001b[0;34m\u001b[0m\u001b[0;34m\u001b[0m\u001b[0m\n\u001b[0m",
            "\u001b[0;32m/usr/local/lib/python3.8/dist-packages/sklearn/model_selection/_search.py\u001b[0m in \u001b[0;36mfit\u001b[0;34m(self, X, y, groups, **fit_params)\u001b[0m\n\u001b[1;32m    924\u001b[0m             \u001b[0mrefit_start_time\u001b[0m \u001b[0;34m=\u001b[0m \u001b[0mtime\u001b[0m\u001b[0;34m.\u001b[0m\u001b[0mtime\u001b[0m\u001b[0;34m(\u001b[0m\u001b[0;34m)\u001b[0m\u001b[0;34m\u001b[0m\u001b[0;34m\u001b[0m\u001b[0m\n\u001b[1;32m    925\u001b[0m             \u001b[0;32mif\u001b[0m \u001b[0my\u001b[0m \u001b[0;32mis\u001b[0m \u001b[0;32mnot\u001b[0m \u001b[0;32mNone\u001b[0m\u001b[0;34m:\u001b[0m\u001b[0;34m\u001b[0m\u001b[0;34m\u001b[0m\u001b[0m\n\u001b[0;32m--> 926\u001b[0;31m                 \u001b[0mself\u001b[0m\u001b[0;34m.\u001b[0m\u001b[0mbest_estimator_\u001b[0m\u001b[0;34m.\u001b[0m\u001b[0mfit\u001b[0m\u001b[0;34m(\u001b[0m\u001b[0mX\u001b[0m\u001b[0;34m,\u001b[0m \u001b[0my\u001b[0m\u001b[0;34m,\u001b[0m \u001b[0;34m**\u001b[0m\u001b[0mfit_params\u001b[0m\u001b[0;34m)\u001b[0m\u001b[0;34m\u001b[0m\u001b[0;34m\u001b[0m\u001b[0m\n\u001b[0m\u001b[1;32m    927\u001b[0m             \u001b[0;32melse\u001b[0m\u001b[0;34m:\u001b[0m\u001b[0;34m\u001b[0m\u001b[0;34m\u001b[0m\u001b[0m\n\u001b[1;32m    928\u001b[0m                 \u001b[0mself\u001b[0m\u001b[0;34m.\u001b[0m\u001b[0mbest_estimator_\u001b[0m\u001b[0;34m.\u001b[0m\u001b[0mfit\u001b[0m\u001b[0;34m(\u001b[0m\u001b[0mX\u001b[0m\u001b[0;34m,\u001b[0m \u001b[0;34m**\u001b[0m\u001b[0mfit_params\u001b[0m\u001b[0;34m)\u001b[0m\u001b[0;34m\u001b[0m\u001b[0;34m\u001b[0m\u001b[0m\n",
            "\u001b[0;32m/usr/local/lib/python3.8/dist-packages/sklearn/pipeline.py\u001b[0m in \u001b[0;36mfit\u001b[0;34m(self, X, y, **fit_params)\u001b[0m\n\u001b[1;32m    388\u001b[0m         \"\"\"\n\u001b[1;32m    389\u001b[0m         \u001b[0mfit_params_steps\u001b[0m \u001b[0;34m=\u001b[0m \u001b[0mself\u001b[0m\u001b[0;34m.\u001b[0m\u001b[0m_check_fit_params\u001b[0m\u001b[0;34m(\u001b[0m\u001b[0;34m**\u001b[0m\u001b[0mfit_params\u001b[0m\u001b[0;34m)\u001b[0m\u001b[0;34m\u001b[0m\u001b[0;34m\u001b[0m\u001b[0m\n\u001b[0;32m--> 390\u001b[0;31m         \u001b[0mXt\u001b[0m \u001b[0;34m=\u001b[0m \u001b[0mself\u001b[0m\u001b[0;34m.\u001b[0m\u001b[0m_fit\u001b[0m\u001b[0;34m(\u001b[0m\u001b[0mX\u001b[0m\u001b[0;34m,\u001b[0m \u001b[0my\u001b[0m\u001b[0;34m,\u001b[0m \u001b[0;34m**\u001b[0m\u001b[0mfit_params_steps\u001b[0m\u001b[0;34m)\u001b[0m\u001b[0;34m\u001b[0m\u001b[0;34m\u001b[0m\u001b[0m\n\u001b[0m\u001b[1;32m    391\u001b[0m         \u001b[0;32mwith\u001b[0m \u001b[0m_print_elapsed_time\u001b[0m\u001b[0;34m(\u001b[0m\u001b[0;34m\"Pipeline\"\u001b[0m\u001b[0;34m,\u001b[0m \u001b[0mself\u001b[0m\u001b[0;34m.\u001b[0m\u001b[0m_log_message\u001b[0m\u001b[0;34m(\u001b[0m\u001b[0mlen\u001b[0m\u001b[0;34m(\u001b[0m\u001b[0mself\u001b[0m\u001b[0;34m.\u001b[0m\u001b[0msteps\u001b[0m\u001b[0;34m)\u001b[0m \u001b[0;34m-\u001b[0m \u001b[0;36m1\u001b[0m\u001b[0;34m)\u001b[0m\u001b[0;34m)\u001b[0m\u001b[0;34m:\u001b[0m\u001b[0;34m\u001b[0m\u001b[0;34m\u001b[0m\u001b[0m\n\u001b[1;32m    392\u001b[0m             \u001b[0;32mif\u001b[0m \u001b[0mself\u001b[0m\u001b[0;34m.\u001b[0m\u001b[0m_final_estimator\u001b[0m \u001b[0;34m!=\u001b[0m \u001b[0;34m\"passthrough\"\u001b[0m\u001b[0;34m:\u001b[0m\u001b[0;34m\u001b[0m\u001b[0;34m\u001b[0m\u001b[0m\n",
            "\u001b[0;32m/usr/local/lib/python3.8/dist-packages/sklearn/pipeline.py\u001b[0m in \u001b[0;36m_fit\u001b[0;34m(self, X, y, **fit_params_steps)\u001b[0m\n\u001b[1;32m    346\u001b[0m                 \u001b[0mcloned_transformer\u001b[0m \u001b[0;34m=\u001b[0m \u001b[0mclone\u001b[0m\u001b[0;34m(\u001b[0m\u001b[0mtransformer\u001b[0m\u001b[0;34m)\u001b[0m\u001b[0;34m\u001b[0m\u001b[0;34m\u001b[0m\u001b[0m\n\u001b[1;32m    347\u001b[0m             \u001b[0;31m# Fit or load from cache the current transformer\u001b[0m\u001b[0;34m\u001b[0m\u001b[0;34m\u001b[0m\u001b[0;34m\u001b[0m\u001b[0m\n\u001b[0;32m--> 348\u001b[0;31m             X, fitted_transformer = fit_transform_one_cached(\n\u001b[0m\u001b[1;32m    349\u001b[0m                 \u001b[0mcloned_transformer\u001b[0m\u001b[0;34m,\u001b[0m\u001b[0;34m\u001b[0m\u001b[0;34m\u001b[0m\u001b[0m\n\u001b[1;32m    350\u001b[0m                 \u001b[0mX\u001b[0m\u001b[0;34m,\u001b[0m\u001b[0;34m\u001b[0m\u001b[0;34m\u001b[0m\u001b[0m\n",
            "\u001b[0;32m/usr/local/lib/python3.8/dist-packages/joblib/memory.py\u001b[0m in \u001b[0;36m__call__\u001b[0;34m(self, *args, **kwargs)\u001b[0m\n\u001b[1;32m    347\u001b[0m \u001b[0;34m\u001b[0m\u001b[0m\n\u001b[1;32m    348\u001b[0m     \u001b[0;32mdef\u001b[0m \u001b[0m__call__\u001b[0m\u001b[0;34m(\u001b[0m\u001b[0mself\u001b[0m\u001b[0;34m,\u001b[0m \u001b[0;34m*\u001b[0m\u001b[0margs\u001b[0m\u001b[0;34m,\u001b[0m \u001b[0;34m**\u001b[0m\u001b[0mkwargs\u001b[0m\u001b[0;34m)\u001b[0m\u001b[0;34m:\u001b[0m\u001b[0;34m\u001b[0m\u001b[0;34m\u001b[0m\u001b[0m\n\u001b[0;32m--> 349\u001b[0;31m         \u001b[0;32mreturn\u001b[0m \u001b[0mself\u001b[0m\u001b[0;34m.\u001b[0m\u001b[0mfunc\u001b[0m\u001b[0;34m(\u001b[0m\u001b[0;34m*\u001b[0m\u001b[0margs\u001b[0m\u001b[0;34m,\u001b[0m \u001b[0;34m**\u001b[0m\u001b[0mkwargs\u001b[0m\u001b[0;34m)\u001b[0m\u001b[0;34m\u001b[0m\u001b[0;34m\u001b[0m\u001b[0m\n\u001b[0m\u001b[1;32m    350\u001b[0m \u001b[0;34m\u001b[0m\u001b[0m\n\u001b[1;32m    351\u001b[0m     \u001b[0;32mdef\u001b[0m \u001b[0mcall_and_shelve\u001b[0m\u001b[0;34m(\u001b[0m\u001b[0mself\u001b[0m\u001b[0;34m,\u001b[0m \u001b[0;34m*\u001b[0m\u001b[0margs\u001b[0m\u001b[0;34m,\u001b[0m \u001b[0;34m**\u001b[0m\u001b[0mkwargs\u001b[0m\u001b[0;34m)\u001b[0m\u001b[0;34m:\u001b[0m\u001b[0;34m\u001b[0m\u001b[0;34m\u001b[0m\u001b[0m\n",
            "\u001b[0;32m/usr/local/lib/python3.8/dist-packages/sklearn/pipeline.py\u001b[0m in \u001b[0;36m_fit_transform_one\u001b[0;34m(transformer, X, y, weight, message_clsname, message, **fit_params)\u001b[0m\n\u001b[1;32m    891\u001b[0m     \u001b[0;32mwith\u001b[0m \u001b[0m_print_elapsed_time\u001b[0m\u001b[0;34m(\u001b[0m\u001b[0mmessage_clsname\u001b[0m\u001b[0;34m,\u001b[0m \u001b[0mmessage\u001b[0m\u001b[0;34m)\u001b[0m\u001b[0;34m:\u001b[0m\u001b[0;34m\u001b[0m\u001b[0;34m\u001b[0m\u001b[0m\n\u001b[1;32m    892\u001b[0m         \u001b[0;32mif\u001b[0m \u001b[0mhasattr\u001b[0m\u001b[0;34m(\u001b[0m\u001b[0mtransformer\u001b[0m\u001b[0;34m,\u001b[0m \u001b[0;34m\"fit_transform\"\u001b[0m\u001b[0;34m)\u001b[0m\u001b[0;34m:\u001b[0m\u001b[0;34m\u001b[0m\u001b[0;34m\u001b[0m\u001b[0m\n\u001b[0;32m--> 893\u001b[0;31m             \u001b[0mres\u001b[0m \u001b[0;34m=\u001b[0m \u001b[0mtransformer\u001b[0m\u001b[0;34m.\u001b[0m\u001b[0mfit_transform\u001b[0m\u001b[0;34m(\u001b[0m\u001b[0mX\u001b[0m\u001b[0;34m,\u001b[0m \u001b[0my\u001b[0m\u001b[0;34m,\u001b[0m \u001b[0;34m**\u001b[0m\u001b[0mfit_params\u001b[0m\u001b[0;34m)\u001b[0m\u001b[0;34m\u001b[0m\u001b[0;34m\u001b[0m\u001b[0m\n\u001b[0m\u001b[1;32m    894\u001b[0m         \u001b[0;32melse\u001b[0m\u001b[0;34m:\u001b[0m\u001b[0;34m\u001b[0m\u001b[0;34m\u001b[0m\u001b[0m\n\u001b[1;32m    895\u001b[0m             \u001b[0mres\u001b[0m \u001b[0;34m=\u001b[0m \u001b[0mtransformer\u001b[0m\u001b[0;34m.\u001b[0m\u001b[0mfit\u001b[0m\u001b[0;34m(\u001b[0m\u001b[0mX\u001b[0m\u001b[0;34m,\u001b[0m \u001b[0my\u001b[0m\u001b[0;34m,\u001b[0m \u001b[0;34m**\u001b[0m\u001b[0mfit_params\u001b[0m\u001b[0;34m)\u001b[0m\u001b[0;34m.\u001b[0m\u001b[0mtransform\u001b[0m\u001b[0;34m(\u001b[0m\u001b[0mX\u001b[0m\u001b[0;34m)\u001b[0m\u001b[0;34m\u001b[0m\u001b[0;34m\u001b[0m\u001b[0m\n",
            "\u001b[0;32m/usr/local/lib/python3.8/dist-packages/sklearn/compose/_column_transformer.py\u001b[0m in \u001b[0;36mfit_transform\u001b[0;34m(self, X, y)\u001b[0m\n\u001b[1;32m    670\u001b[0m         \u001b[0mself\u001b[0m\u001b[0;34m.\u001b[0m\u001b[0m_check_n_features\u001b[0m\u001b[0;34m(\u001b[0m\u001b[0mX\u001b[0m\u001b[0;34m,\u001b[0m \u001b[0mreset\u001b[0m\u001b[0;34m=\u001b[0m\u001b[0;32mTrue\u001b[0m\u001b[0;34m)\u001b[0m\u001b[0;34m\u001b[0m\u001b[0;34m\u001b[0m\u001b[0m\n\u001b[1;32m    671\u001b[0m         \u001b[0mself\u001b[0m\u001b[0;34m.\u001b[0m\u001b[0m_validate_transformers\u001b[0m\u001b[0;34m(\u001b[0m\u001b[0;34m)\u001b[0m\u001b[0;34m\u001b[0m\u001b[0;34m\u001b[0m\u001b[0m\n\u001b[0;32m--> 672\u001b[0;31m         \u001b[0mself\u001b[0m\u001b[0;34m.\u001b[0m\u001b[0m_validate_column_callables\u001b[0m\u001b[0;34m(\u001b[0m\u001b[0mX\u001b[0m\u001b[0;34m)\u001b[0m\u001b[0;34m\u001b[0m\u001b[0;34m\u001b[0m\u001b[0m\n\u001b[0m\u001b[1;32m    673\u001b[0m         \u001b[0mself\u001b[0m\u001b[0;34m.\u001b[0m\u001b[0m_validate_remainder\u001b[0m\u001b[0;34m(\u001b[0m\u001b[0mX\u001b[0m\u001b[0;34m)\u001b[0m\u001b[0;34m\u001b[0m\u001b[0;34m\u001b[0m\u001b[0m\n\u001b[1;32m    674\u001b[0m \u001b[0;34m\u001b[0m\u001b[0m\n",
            "\u001b[0;32m/usr/local/lib/python3.8/dist-packages/sklearn/compose/_column_transformer.py\u001b[0m in \u001b[0;36m_validate_column_callables\u001b[0;34m(self, X)\u001b[0m\n\u001b[1;32m    350\u001b[0m                 \u001b[0mcolumns\u001b[0m \u001b[0;34m=\u001b[0m \u001b[0mcolumns\u001b[0m\u001b[0;34m(\u001b[0m\u001b[0mX\u001b[0m\u001b[0;34m)\u001b[0m\u001b[0;34m\u001b[0m\u001b[0;34m\u001b[0m\u001b[0m\n\u001b[1;32m    351\u001b[0m             \u001b[0mall_columns\u001b[0m\u001b[0;34m.\u001b[0m\u001b[0mappend\u001b[0m\u001b[0;34m(\u001b[0m\u001b[0mcolumns\u001b[0m\u001b[0;34m)\u001b[0m\u001b[0;34m\u001b[0m\u001b[0;34m\u001b[0m\u001b[0m\n\u001b[0;32m--> 352\u001b[0;31m             \u001b[0mtransformer_to_input_indices\u001b[0m\u001b[0;34m[\u001b[0m\u001b[0mname\u001b[0m\u001b[0;34m]\u001b[0m \u001b[0;34m=\u001b[0m \u001b[0m_get_column_indices\u001b[0m\u001b[0;34m(\u001b[0m\u001b[0mX\u001b[0m\u001b[0;34m,\u001b[0m \u001b[0mcolumns\u001b[0m\u001b[0;34m)\u001b[0m\u001b[0;34m\u001b[0m\u001b[0;34m\u001b[0m\u001b[0m\n\u001b[0m\u001b[1;32m    353\u001b[0m \u001b[0;34m\u001b[0m\u001b[0m\n\u001b[1;32m    354\u001b[0m         \u001b[0mself\u001b[0m\u001b[0;34m.\u001b[0m\u001b[0m_columns\u001b[0m \u001b[0;34m=\u001b[0m \u001b[0mall_columns\u001b[0m\u001b[0;34m\u001b[0m\u001b[0;34m\u001b[0m\u001b[0m\n",
            "\u001b[0;32m/usr/local/lib/python3.8/dist-packages/sklearn/utils/__init__.py\u001b[0m in \u001b[0;36m_get_column_indices\u001b[0;34m(X, key)\u001b[0m\n\u001b[1;32m    439\u001b[0m \u001b[0;34m\u001b[0m\u001b[0m\n\u001b[1;32m    440\u001b[0m         \u001b[0;32mexcept\u001b[0m \u001b[0mKeyError\u001b[0m \u001b[0;32mas\u001b[0m \u001b[0me\u001b[0m\u001b[0;34m:\u001b[0m\u001b[0;34m\u001b[0m\u001b[0;34m\u001b[0m\u001b[0m\n\u001b[0;32m--> 441\u001b[0;31m             \u001b[0;32mraise\u001b[0m \u001b[0mValueError\u001b[0m\u001b[0;34m(\u001b[0m\u001b[0;34m\"A given column is not a column of the dataframe\"\u001b[0m\u001b[0;34m)\u001b[0m \u001b[0;32mfrom\u001b[0m \u001b[0me\u001b[0m\u001b[0;34m\u001b[0m\u001b[0;34m\u001b[0m\u001b[0m\n\u001b[0m\u001b[1;32m    442\u001b[0m \u001b[0;34m\u001b[0m\u001b[0m\n\u001b[1;32m    443\u001b[0m         \u001b[0;32mreturn\u001b[0m \u001b[0mcolumn_indices\u001b[0m\u001b[0;34m\u001b[0m\u001b[0;34m\u001b[0m\u001b[0m\n",
            "\u001b[0;31mValueError\u001b[0m: A given column is not a column of the dataframe"
          ]
        }
      ],
      "source": [
        "grid_dt.fit(X_tr, Y_tr)"
      ]
    },
    {
      "cell_type": "code",
      "execution_count": null,
      "metadata": {
        "id": "Hbq64PS8ONO6"
      },
      "outputs": [],
      "source": [
        "pred = grid_dt.predict(X_ts)"
      ]
    },
    {
      "cell_type": "markdown",
      "metadata": {
        "id": "CqdUp07bONO6"
      },
      "source": [
        "#### Decison Tree Outputs:\n",
        "\n",
        "##### Metrics:\n",
        "\n",
        "Precision of class 0, 1, and combined using the classification report\n",
        "\n",
        "Recall of class 0, 1, and combined using the classification report\n",
        "\n",
        "F-1 Score of class 0, 1, and combined using the classification report\n",
        "\n",
        "Accuracy of the model using the classification report\n",
        "\n",
        "##### Graphs:\n",
        "\n",
        "Here we have a ROC-Curve that shows how well the model is being fitted to the data.\n"
      ]
    },
    {
      "cell_type": "code",
      "execution_count": null,
      "metadata": {
        "id": "XTqPNdCIONO6"
      },
      "outputs": [],
      "source": [
        "print(accuracy_score(pred, Y_ts))\n",
        "print(confusion_matrix(pred, Y_ts))\n",
        "print(classification_report(pred, Y_ts))"
      ]
    },
    {
      "cell_type": "code",
      "execution_count": null,
      "metadata": {
        "id": "i6e2LWDiONO6"
      },
      "outputs": [],
      "source": [
        "plot_roc_curve(grid_dt, X_ts, Y_ts)"
      ]
    },
    {
      "cell_type": "markdown",
      "metadata": {
        "id": "kXkrc-lRONO6"
      },
      "source": [
        "#### [4.2]\n",
        "#### LOGISTIC REGRESSION "
      ]
    },
    {
      "cell_type": "markdown",
      "metadata": {
        "id": "FxmQtjfJONO6"
      },
      "source": [
        "#### Logistic Regression Inputs\n",
        "\n",
        "##### Description:\n",
        "\n",
        "Creating a sklearn pipeline using the ColumnTransformer and the Logistic Regression and pass through all the variable\n",
        "\n",
        "##### Parameters for Classifier: \n",
        "\n",
        "Penalty on which the model is trained:\n",
        "    \n",
        "    L1: Ridge\n",
        "    L2: Lasso\n",
        "\n",
        "Complexity Penalty of the regressor:\n",
        "    \n",
        "    0.001,0.01,0.1,1,10,100,1000\n",
        "    \n",
        "##### Inputs:\n",
        "\n",
        "For the training of the data:\n",
        "    X_resample and Y_resample:\n",
        "        \n",
        "##### Resampling of Data:\n",
        "\n",
        "Why are we resampling the data?\n",
        "    \n",
        "    Before resampling the data, I tried creating a classifer which resulted in 96% accuracy although, bad class 1 accuracy. Hence we undersampled the data so that the classifier can properly identify the features and train it easily\n",
        "        "
      ]
    },
    {
      "cell_type": "markdown",
      "metadata": {
        "id": "l4IrkZIpONO7"
      },
      "source": [
        "#### Logistic Regression Outputs:\n",
        "\n",
        "##### Metrics:\n",
        "\n",
        "Precision of class 0, 1, and combined using the classification report\n",
        "\n",
        "Recall of class 0, 1, and combined using the classification report\n",
        "\n",
        "F-1 Score of class 0, 1, and combined using the classification report\n",
        "\n",
        "Accuracy of the model using the classification report\n",
        "\n",
        "##### Graphs:\n",
        "\n",
        "Here we have a ROC-Curve that shows how well the model is being fitted to the data.\n"
      ]
    },
    {
      "cell_type": "markdown",
      "metadata": {
        "id": "MSm8ogrNONO8"
      },
      "source": [
        "#### [4.3]\n",
        "#### RANDOM FOREST"
      ]
    },
    {
      "cell_type": "markdown",
      "metadata": {
        "id": "qAiVgBvLONO8"
      },
      "source": [
        "#### Random Forest Inputs\n",
        "\n",
        "##### Description:\n",
        "\n",
        "Creating a sklearn pipeline using the ColumnTransformer and the RandomForestClassifier and pass through all the variable\n",
        "\n",
        "##### Parameters for Classifier: \n",
        "\n",
        "Criterion on which randomForest is trained:\n",
        "    \n",
        "    Gini\n",
        "    Entropy\n",
        "\n",
        "Max Depth of the tree:\n",
        "    \n",
        "    3,4,5,6,7,8,9,10,11,12,13,14,15,16,17,18,19,20\n",
        "    \n",
        "##### Inputs:\n",
        "\n",
        "For the training of the data:\n",
        "    X_resample and Y_resample:\n",
        "        \n",
        "##### Resampling of Data:\n",
        "\n",
        "Why are we resampling the data?\n",
        "    \n",
        "    Before resampling the data, I tried creating a classifer which resulted in 96% accuracy although, bad class 1 accuracy. Hence we undersampled the data so that the classifier can properly identify the features and train it easily\n",
        "        "
      ]
    },
    {
      "cell_type": "code",
      "execution_count": null,
      "metadata": {
        "id": "IQr9v7d4ONO8"
      },
      "outputs": [],
      "source": [
        "RandomForest_pipe = Pipeline(\n",
        "    steps = [(\"Transformer\", ct), (\"Classifier\", RandomForestClassifier())])"
      ]
    },
    {
      "cell_type": "code",
      "execution_count": null,
      "metadata": {
        "id": "8q4txOdLONO8"
      },
      "outputs": [],
      "source": [
        "sampler = RandomUnderSampler()\n",
        "X_sample, Y_sample = sampler.fit_resample(X_dummies, Y)"
      ]
    },
    {
      "cell_type": "code",
      "execution_count": null,
      "metadata": {
        "id": "IHoNFmsEONO8"
      },
      "outputs": [],
      "source": [
        "params = {'Classifier__criterion':['gini', 'entropy'],\n",
        "          'Classifier__max_depth':np.arange(3, 20) \n",
        "         }"
      ]
    },
    {
      "cell_type": "code",
      "execution_count": null,
      "metadata": {
        "id": "mMdNI9wSONO8"
      },
      "outputs": [],
      "source": [
        "grid_rf = GridSearchCV(RandomForest_pipe,\n",
        "                      param_grid=params,\n",
        "                      scoring = 'accuracy', \n",
        "                      cv = 5)"
      ]
    },
    {
      "cell_type": "code",
      "execution_count": null,
      "metadata": {
        "id": "iO55YwqEONO8"
      },
      "outputs": [],
      "source": [
        "X_tr, X_ts, Y_tr, Y_ts = train_test_split(X_sample, Y_sample, test_size = 0.4, random_state = 42, stratify=Y_sample)"
      ]
    },
    {
      "cell_type": "code",
      "execution_count": null,
      "metadata": {
        "id": "CA0qfkxoONO8"
      },
      "outputs": [],
      "source": [
        "grid_rf.fit(X_tr, Y_tr)"
      ]
    },
    {
      "cell_type": "code",
      "execution_count": null,
      "metadata": {
        "id": "C8b3Qs2ZONO8"
      },
      "outputs": [],
      "source": [
        "pred = grid_rf.predict(X_ts)"
      ]
    },
    {
      "cell_type": "markdown",
      "metadata": {
        "id": "xDbipkAxONO8"
      },
      "source": [
        "#### Random Forest Outputs:\n",
        "\n",
        "##### Metrics:\n",
        "\n",
        "Precision of class 0, 1, and combined using the classification report\n",
        "\n",
        "Recall of class 0, 1, and combined using the classification report\n",
        "\n",
        "F-1 Score of class 0, 1, and combined using the classification report\n",
        "\n",
        "Accuracy of the model using the classification report\n",
        "\n",
        "##### Graphs:\n",
        "\n",
        "Here we have a ROC-Curve that shows how well the model is being fitted to the data.\n"
      ]
    },
    {
      "cell_type": "code",
      "execution_count": null,
      "metadata": {
        "id": "oDnHG3LsONO8"
      },
      "outputs": [],
      "source": [
        "print(accuracy_score(pred, Y_ts))\n",
        "print(confusion_matrix(pred, Y_ts))\n",
        "print(classification_report(pred, Y_ts))"
      ]
    },
    {
      "cell_type": "code",
      "execution_count": null,
      "metadata": {
        "id": "zFMbITTQONO8"
      },
      "outputs": [],
      "source": [
        "plot_roc_curve(grid_rf, X_ts, Y_ts)"
      ]
    },
    {
      "cell_type": "markdown",
      "metadata": {
        "id": "TzXPDuthONO9"
      },
      "source": [
        "#### [4.4]\n",
        "#### XGBOOST"
      ]
    },
    {
      "cell_type": "markdown",
      "metadata": {
        "id": "PAdkrUb3ONO9"
      },
      "source": [
        "#### XGBoost Inputs\n",
        "\n",
        "##### Description:\n",
        "\n",
        "Creating a sklearn pipeline using the ColumnTransformer and the XGBoost and pass through all the variable\n",
        "\n",
        "##### Parameters for Classifier: \n",
        "\n",
        "Max Depth of the tree:\n",
        "    \n",
        "    2, 10, 1\n",
        "\n",
        "Number of estimators:\n",
        "    \n",
        "    60, 220, 40\n",
        "    \n",
        "Learning Rate: \n",
        "    \n",
        "    0.5, 0.4, 0.3, 0.2, 0.1, 0.01, 0.05\n",
        "    \n",
        "##### Inputs:\n",
        "\n",
        "For the training of the data:\n",
        "    X_resample and Y_resample:\n",
        "        \n",
        "##### Resampling of Data:\n",
        "\n",
        "Why are we resampling the data?\n",
        "    \n",
        "    Before resampling the data, I tried creating a classifer which resulted in 96% accuracy although, bad class 1 accuracy. Hence we undersampled the data so that the classifier can properly identify the features and train it easily\n",
        "        "
      ]
    },
    {
      "cell_type": "code",
      "execution_count": null,
      "metadata": {
        "id": "ZOOcTTdYONO9"
      },
      "outputs": [],
      "source": [
        "XGB_pipe = Pipeline(\n",
        "    steps = [(\"Transformer\", ct), (\"Classifier\", XGBClassifier(verbosity = 0))])"
      ]
    },
    {
      "cell_type": "code",
      "execution_count": null,
      "metadata": {
        "id": "KyyLR3BrONO9"
      },
      "outputs": [],
      "source": [
        "sampler = RandomUnderSampler()\n",
        "X_sample, Y_sample = sampler.fit_resample(X_dummies, Y)"
      ]
    },
    {
      "cell_type": "code",
      "execution_count": null,
      "metadata": {
        "id": "VCYDuGP1ONO9"
      },
      "outputs": [],
      "source": [
        "params = {\n",
        "    'Classifier__max_depth': range (2, 10, 1),\n",
        "    'Classifier__n_estimators': range(60, 220, 40),\n",
        "    'Classifier__learning_rate': [0.5, 0.4, 0.3, 0.2, 0.1, 0.01, 0.05]\n",
        "}"
      ]
    },
    {
      "cell_type": "code",
      "execution_count": null,
      "metadata": {
        "id": "dc4wF6yfONO9"
      },
      "outputs": [],
      "source": [
        "grid_xgb = GridSearchCV(XGB_pipe,\n",
        "                      param_grid=params,\n",
        "                      scoring = 'accuracy', \n",
        "                      cv = 5)"
      ]
    },
    {
      "cell_type": "code",
      "execution_count": null,
      "metadata": {
        "id": "T1XQCe6jONO9"
      },
      "outputs": [],
      "source": [
        "X_tr, X_ts, Y_tr, Y_ts = train_test_split(X_sample, Y_sample, test_size = 0.4, random_state = 42, stratify=Y_sample)"
      ]
    },
    {
      "cell_type": "code",
      "execution_count": null,
      "metadata": {
        "id": "qNyvTJxTONO9"
      },
      "outputs": [],
      "source": [
        "grid_xgb.fit(X_tr, Y_tr)\n",
        "pred = grid_xgb.predict(X_ts)"
      ]
    },
    {
      "cell_type": "markdown",
      "metadata": {
        "id": "ukUBuwVPONPA"
      },
      "source": [
        "#### XGBOOST Outputs:\n",
        "\n",
        "##### Metrics:\n",
        "\n",
        "Precision of class 0, 1, and combined using the classification report\n",
        "\n",
        "Recall of class 0, 1, and combined using the classification report\n",
        "\n",
        "F-1 Score of class 0, 1, and combined using the classification report\n",
        "\n",
        "Accuracy of the model using the classification report\n",
        "\n",
        "##### Graphs:\n",
        "\n",
        "Here we have a ROC-Curve that shows how well the model is being fitted to the data.\n"
      ]
    },
    {
      "cell_type": "code",
      "execution_count": null,
      "metadata": {
        "id": "my4zewg3ONPB"
      },
      "outputs": [],
      "source": [
        "print(accuracy_score(pred, Y_ts))\n",
        "print(confusion_matrix(pred, Y_ts))\n",
        "print(classification_report(pred, Y_ts))"
      ]
    },
    {
      "cell_type": "markdown",
      "metadata": {
        "id": "vl7m4S5aONPB"
      },
      "source": [
        "https://scikit-learn.org/stable/modules/generated/sklearn.metrics.plot_roc_curve.html"
      ]
    },
    {
      "cell_type": "code",
      "execution_count": null,
      "metadata": {
        "id": "DAVK1YAYONPB"
      },
      "outputs": [],
      "source": [
        "plot_roc_curve(grid_xgb, X_ts, Y_ts)"
      ]
    },
    {
      "cell_type": "markdown",
      "metadata": {
        "id": "CdIqJE0WONPB"
      },
      "source": [
        " "
      ]
    },
    {
      "cell_type": "markdown",
      "metadata": {
        "id": "RK7s8we8ONPB"
      },
      "source": [
        "## [5] Final Thoughts and Conclusions:"
      ]
    },
    {
      "cell_type": "markdown",
      "metadata": {
        "id": "lANBbFpCONPB"
      },
      "source": [
        "#### [5.1]\n",
        "#### Justification for using the models:"
      ]
    },
    {
      "cell_type": "markdown",
      "metadata": {
        "id": "fyMsj8bXONPB"
      },
      "source": [
        "**Logistic Regression**: \n",
        "\n",
        "Using Logistic regression as an obvious choice because it is the most sought after model in the classification pipelines and problems. I wanted to see how the Logistic regression models performs well on an imbalanced dataset and it was not doing a good job on handling the data.\n",
        "\n",
        "**Decision Tree:**\n",
        "\n",
        "Decision Trees can handle imbalanced datasets pretty well and thus was my first pick. Although this did give a 97% accuracy, it was not doing a great job with the imbalance either. Hence that is where I thought I should definitely undersample class 0.\n",
        "\n",
        "**Random Forest:**\n",
        "    \n",
        "This is a pretty popular method for handling data that might be slightly imbalanced data and was giving 89% accuracy, it had a good effect on the class 1 as compared to the Decision Tree and Logistic Regression.\n",
        "\n",
        "**XGBoost:**\n",
        "    \n",
        "XGBoost outperforms every other classification model in my opinion. TreeBoosting algorithms have been great for classifying the imbalanced classes and do a great job when there is a balance in the data. \n"
      ]
    },
    {
      "cell_type": "markdown",
      "metadata": {
        "id": "sY-pxmZ-ONPB"
      },
      "source": [
        "**GridSearchCV:**\n",
        "    \n",
        "Using GridSearchCV for hyperparameter training as it will create the model best suited for the data."
      ]
    },
    {
      "cell_type": "markdown",
      "metadata": {
        "id": "f4D2bkpgONPB"
      },
      "source": [
        "#### [5.2] All the columns that were important:"
      ]
    },
    {
      "cell_type": "markdown",
      "metadata": {
        "id": "g3USEiUvONPB"
      },
      "source": [
        "##### Reason:\n",
        "These columns produced very less correlations and they give an unbiased picture to all the models. "
      ]
    },
    {
      "cell_type": "code",
      "execution_count": null,
      "metadata": {
        "id": "ZIbtCqMOONPB"
      },
      "outputs": [],
      "source": [
        "X.columns.to_list()"
      ]
    },
    {
      "cell_type": "markdown",
      "metadata": {
        "id": "bzPVLWZzONPB"
      },
      "source": [
        "##### New Features:\n",
        "    cvvMatch, FirstVendorPurchase, MultiswipeMinutes and sameCountry are the new features I created. \n",
        "    \n",
        "Refer to 4.2, 5, 6.2, 6.3 of Question 3.ipynb for reference"
      ]
    },
    {
      "cell_type": "markdown",
      "metadata": {
        "id": "eQS56e0ZONPC"
      },
      "source": [
        "#### [5.3] What would have I done with more time:\n",
        "\n",
        "- I could have created another feature for the expiration Date which I couldn't get an idea of. \n",
        "\n",
        "- I would have used RandomisedSearch CV and compared with the Grid Search CV models.\n",
        "\n",
        "- I could have Deep Learning models on the un-sampled trained data itself and see if I could have got a better accuracy.\n",
        "\n",
        "- Compared all the ROC curves together as I was not able to figure out."
      ]
    },
    {
      "cell_type": "markdown",
      "metadata": {
        "id": "97bjr0GZONPC"
      },
      "source": [
        "#### [5.4] What questions do I have:\n",
        "\n",
        "- What kind of features do you usually look at, while doing Fraud Detection and how close are the results with the real life.\n",
        "\n",
        "- What do you expect the final result of the machine learning/deep learning model be used at and how is the company going to use all the models?\n",
        "\n",
        "- As much as this data is imbalanced, the real-life training data is going to be extremely imbalanced and how are you able to detect a Fraud going on in real-time?\n",
        "\n",
        "- What is the best way to tackle this kind of imbalance data, especially at the firm?\n"
      ]
    }
  ],
  "metadata": {
    "kernelspec": {
      "display_name": "Python 3",
      "language": "python",
      "name": "python3"
    },
    "language_info": {
      "codemirror_mode": {
        "name": "ipython",
        "version": 3
      },
      "file_extension": ".py",
      "mimetype": "text/x-python",
      "name": "python",
      "nbconvert_exporter": "python",
      "pygments_lexer": "ipython3",
      "version": "3.8.8"
    },
    "colab": {
      "provenance": []
    }
  },
  "nbformat": 4,
  "nbformat_minor": 0
}